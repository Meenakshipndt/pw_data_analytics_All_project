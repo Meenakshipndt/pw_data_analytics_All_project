{
 "cells": [
  {
   "cell_type": "markdown",
   "id": "f7e034e1-19d8-46b3-a57c-2b4e63b60493",
   "metadata": {},
   "source": [
    "## Data structures in Python"
   ]
  },
  {
   "cell_type": "markdown",
   "id": "8dae6e06-a381-4165-b747-c8edb4f63670",
   "metadata": {},
   "source": [
    "#### 1. Write a code to reverse a string."
   ]
  },
  {
   "cell_type": "code",
   "execution_count": 1,
   "id": "63e9a0ba-a18e-4c5f-b5ab-ebc09e7e51f8",
   "metadata": {},
   "outputs": [
    {
     "name": "stdout",
     "output_type": "stream",
     "text": [
      "!dlroW ,olleH\n"
     ]
    }
   ],
   "source": [
    "def reverse_string(s):\n",
    "    reversed_str = \"\"\n",
    "    for char in s:\n",
    "        reversed_str = char + reversed_str\n",
    "    return reversed_str\n",
    "\n",
    "# Example usage\n",
    "text = \"Hello, World!\"\n",
    "print(reverse_string(text))\n"
   ]
  },
  {
   "cell_type": "markdown",
   "id": "01c13ecb-814d-4e53-b864-afb56e806726",
   "metadata": {},
   "source": [
    "This code iterates through each character in the string and builds a new string in reverse order.\n",
    "\n",
    "\n",
    "\n",
    "\n",
    "\n",
    "\n"
   ]
  },
  {
   "cell_type": "markdown",
   "id": "3c2e4464-7eb9-4ede-a094-f7d93a4d89ee",
   "metadata": {},
   "source": [
    "#### 2.Write a code to count the number of vowels in a string."
   ]
  },
  {
   "cell_type": "code",
   "execution_count": 2,
   "id": "a417ab90-b547-4fcb-878a-e6dea82c45fb",
   "metadata": {},
   "outputs": [
    {
     "name": "stdout",
     "output_type": "stream",
     "text": [
      "Number of vowels: 3\n"
     ]
    }
   ],
   "source": [
    "def count_vowels(s):\n",
    "    vowels = \"aeiouAEIOU\"\n",
    "    count = 0\n",
    "    for char in s:\n",
    "        if char in vowels:\n",
    "            count += 1\n",
    "    return count\n",
    "\n",
    "# Example usage\n",
    "text = \"Hello, World!\"\n",
    "print(\"Number of vowels:\", count_vowels(text))\n"
   ]
  },
  {
   "cell_type": "markdown",
   "id": "3e509056-c354-4e02-a462-07a2fb13f378",
   "metadata": {},
   "source": [
    "#### 3. Write a code to check if a given string is a palindrome or not. "
   ]
  },
  {
   "cell_type": "code",
   "execution_count": 3,
   "id": "d4cb2d58-de30-4dba-a4f2-c93aa053c6f6",
   "metadata": {},
   "outputs": [
    {
     "name": "stdout",
     "output_type": "stream",
     "text": [
      "True\n"
     ]
    }
   ],
   "source": [
    "def is_palindrome(s):\n",
    "    return s == s[::-1]\n",
    "\n",
    "# Example usage\n",
    "text = \"madam\"\n",
    "print(is_palindrome(text))\n"
   ]
  },
  {
   "cell_type": "markdown",
   "id": "7f21dd78-55d9-45fd-82c1-3b36f3d7d2ef",
   "metadata": {},
   "source": [
    "This code compares the string to its reverse to check if it's a palindrome."
   ]
  },
  {
   "cell_type": "markdown",
   "id": "e8b781e9-13af-48f6-956a-541e952cc585",
   "metadata": {},
   "source": [
    "#### 4. Write a code to check if two given substring are anagrams of each other. "
   ]
  },
  {
   "cell_type": "code",
   "execution_count": 4,
   "id": "a75226a4-2719-49ae-9705-4ad4f6f0a381",
   "metadata": {},
   "outputs": [
    {
     "name": "stdout",
     "output_type": "stream",
     "text": [
      "True\n"
     ]
    }
   ],
   "source": [
    "def are_anagrams(str1, str2):\n",
    "    return sorted(str1) == sorted(str2)\n",
    "\n",
    "# Example usage\n",
    "s1 = \"listen\"\n",
    "s2 = \"silent\"\n",
    "print(are_anagrams(s1, s2))\n"
   ]
  },
  {
   "cell_type": "markdown",
   "id": "5ecee537-f2f9-4300-8144-78f8a4855914",
   "metadata": {},
   "source": [
    "#### 5. Write a code to find all occurrences of a given substring within another string. "
   ]
  },
  {
   "cell_type": "code",
   "execution_count": 5,
   "id": "ac77d3d1-0540-4792-b1c6-8f67a5d6fe09",
   "metadata": {},
   "outputs": [
    {
     "name": "stdout",
     "output_type": "stream",
     "text": [
      "[2, 5]\n"
     ]
    }
   ],
   "source": [
    "def find_occurrences(main_str, sub_str):\n",
    "    return [i for i in range(len(main_str)) if main_str.startswith(sub_str, i)]\n",
    "\n",
    "# Example usage\n",
    "text = \"ababcabc\"\n",
    "substring = \"abc\"\n",
    "print(find_occurrences(text, substring))\n"
   ]
  },
  {
   "cell_type": "markdown",
   "id": "6ee9fc3c-93ad-45cc-8be1-98b7cf9e3102",
   "metadata": {},
   "source": [
    "#### 6. Write a code to perform basic string compression using the counts of repeated characters. "
   ]
  },
  {
   "cell_type": "code",
   "execution_count": 6,
   "id": "e6169873-31ae-4bc4-a7ef-009fabfc756d",
   "metadata": {},
   "outputs": [
    {
     "name": "stdout",
     "output_type": "stream",
     "text": [
      "a3b2c4d1\n"
     ]
    }
   ],
   "source": [
    "def compress_string(s):\n",
    "    compressed = []\n",
    "    count = 1\n",
    "\n",
    "    for i in range(1, len(s)):\n",
    "        if s[i] == s[i - 1]:\n",
    "            count += 1\n",
    "        else:\n",
    "            compressed.append(s[i - 1] + str(count))\n",
    "            count = 1\n",
    "            \n",
    "    compressed.append(s[-1] + str(count))  # Append the last character and its count\n",
    "    return ''.join(compressed)\n",
    "\n",
    "# Example usage\n",
    "text = \"aaabbccccd\"\n",
    "print(compress_string(text))\n"
   ]
  },
  {
   "cell_type": "markdown",
   "id": "76688cf9-5b9e-4309-abb4-b8538560aa18",
   "metadata": {},
   "source": [
    "#### 7. Write a code to determine if a string has all unique characters.  "
   ]
  },
  {
   "cell_type": "code",
   "execution_count": 7,
   "id": "0492e394-a346-4329-b76d-cf6a6db499c5",
   "metadata": {},
   "outputs": [
    {
     "name": "stdout",
     "output_type": "stream",
     "text": [
      "True\n"
     ]
    }
   ],
   "source": [
    "def has_unique_chars(s):\n",
    "    return len(set(s)) == len(s)\n",
    "\n",
    "# Example usage\n",
    "text = \"abcdef\"\n",
    "print(has_unique_chars(text))\n"
   ]
  },
  {
   "cell_type": "markdown",
   "id": "a82922b6-e52b-4766-a273-de000eafca93",
   "metadata": {},
   "source": [
    "#### 8. Write a code to convert a given string to uppercase or lowercase."
   ]
  },
  {
   "cell_type": "code",
   "execution_count": 9,
   "id": "4ad63b9c-d19f-466d-87b2-5e996aa0c59d",
   "metadata": {},
   "outputs": [
    {
     "name": "stdout",
     "output_type": "stream",
     "text": [
      "HELLO, WORLD!\n",
      "hello, world!\n"
     ]
    }
   ],
   "source": [
    "def convert_case(s, to_upper=True):\n",
    "    return s.upper() if to_upper else s.lower()\n",
    "\n",
    "# Example usage\n",
    "text = \"Hello, World!\"\n",
    "print(convert_case(text, to_upper=True))  # Convert to uppercase\n",
    "print(convert_case(text, to_upper=False)) # Convert to lowercase\n"
   ]
  },
  {
   "cell_type": "markdown",
   "id": "c1bb8fef-8c78-46f7-add0-9773f2eb7bd1",
   "metadata": {},
   "source": [
    "#### 9. Write a code to count the number of words in a string."
   ]
  },
  {
   "cell_type": "code",
   "execution_count": 11,
   "id": "896a919f-5a3f-4a12-9383-3514818a7d94",
   "metadata": {},
   "outputs": [
    {
     "name": "stdout",
     "output_type": "stream",
     "text": [
      "6\n"
     ]
    }
   ],
   "source": [
    "def count_words(s):\n",
    "    return len(s.split())\n",
    "\n",
    "# Example usage\n",
    "text = \"Hello, world! This is a test.\"\n",
    "print(count_words(text))\n"
   ]
  },
  {
   "cell_type": "markdown",
   "id": "4bee3ab1-aed3-4c4c-9a02-acdca2f52189",
   "metadata": {},
   "source": [
    "#### 10. Write a code to concatenate two strings without using the + operator. "
   ]
  },
  {
   "cell_type": "code",
   "execution_count": 15,
   "id": "44f5ef71-aa53-4e02-838d-450ab5b5efcd",
   "metadata": {},
   "outputs": [
    {
     "name": "stdout",
     "output_type": "stream",
     "text": [
      "Hello, world!\n"
     ]
    }
   ],
   "source": [
    "def concatenate_strings(str1, str2):\n",
    "    return ''.join([str1, str2])\n",
    "\n",
    "# Example usage\n",
    "s1 = \"Hello, \"\n",
    "s2 = \"world!\"\n",
    "print(concatenate_strings(s1, s2))\n"
   ]
  },
  {
   "cell_type": "markdown",
   "id": "9df6447f-2879-4845-83dc-6c45a544ed2e",
   "metadata": {},
   "source": [
    "#### 11. Write a code to remove all occurrences of a specific element from all list. "
   ]
  },
  {
   "cell_type": "code",
   "execution_count": 16,
   "id": "f37f565b-46d4-4818-8d8d-093e03731653",
   "metadata": {},
   "outputs": [
    {
     "name": "stdout",
     "output_type": "stream",
     "text": [
      "[1, 3, 4, 5]\n"
     ]
    }
   ],
   "source": [
    "def remove_occurrences(lst, element):\n",
    "    return [x for x in lst if x != element]\n",
    "\n",
    "# Example usage\n",
    "my_list = [1, 2, 3, 2, 4, 2, 5]\n",
    "result = remove_occurrences(my_list, 2)\n",
    "print(result)\n"
   ]
  },
  {
   "cell_type": "markdown",
   "id": "8f75d7b8-df0a-401d-ac60-4df7ff562cdf",
   "metadata": {},
   "source": [
    "#### 12. Implement a code to find the second largest number in a given list of integers. "
   ]
  },
  {
   "cell_type": "code",
   "execution_count": 17,
   "id": "b54067d9-4632-4524-8c1f-d460a9cdd248",
   "metadata": {},
   "outputs": [
    {
     "name": "stdout",
     "output_type": "stream",
     "text": [
      "4\n"
     ]
    }
   ],
   "source": [
    "def second_largest(lst):\n",
    "    unique_numbers = list(set(lst))  # Remove duplicates\n",
    "    unique_numbers.sort()\n",
    "    return unique_numbers[-2] if len(unique_numbers) >= 2 else None\n",
    "\n",
    "# Example usage\n",
    "numbers = [5, 3, 1, 4, 4, 2]\n",
    "print(second_largest(numbers))\n"
   ]
  },
  {
   "cell_type": "markdown",
   "id": "47bc5e7f-d1f7-441f-9122-3b95fadecf3f",
   "metadata": {},
   "source": [
    "#### 13. Create a code to count the occurrences of each element in a list and return a dictionary with elements as keys and their counts as values.   "
   ]
  },
  {
   "cell_type": "code",
   "execution_count": 18,
   "id": "dbd29755-e940-47d7-8f50-077857775faa",
   "metadata": {},
   "outputs": [
    {
     "name": "stdout",
     "output_type": "stream",
     "text": [
      "{1: 2, 2: 2, 3: 1, 4: 1}\n"
     ]
    }
   ],
   "source": [
    "def count_occurrences(lst):\n",
    "    return {x: lst.count(x) for x in set(lst)}\n",
    "\n",
    "# Example usage\n",
    "elements = [1, 2, 2, 3, 1, 4]\n",
    "result = count_occurrences(elements)\n",
    "print(result)\n"
   ]
  },
  {
   "cell_type": "markdown",
   "id": "014f747c-0ed9-4d00-88fc-a0c1944831bf",
   "metadata": {},
   "source": [
    "#### 14. Write a code to reverse a list in-place without using any built-in reverse functions."
   ]
  },
  {
   "cell_type": "code",
   "execution_count": 19,
   "id": "4aa0228c-4159-4860-b87d-162dd6ab01e0",
   "metadata": {},
   "outputs": [
    {
     "name": "stdout",
     "output_type": "stream",
     "text": [
      "[5, 4, 3, 2, 1]\n"
     ]
    }
   ],
   "source": [
    "def reverse_list(lst):\n",
    "    left, right = 0, len(lst) - 1\n",
    "    while left < right:\n",
    "        lst[left], lst[right] = lst[right], lst[left]  # Swap elements\n",
    "        left += 1\n",
    "        right -= 1\n",
    "\n",
    "# Example usage\n",
    "my_list = [1, 2, 3, 4, 5]\n",
    "reverse_list(my_list)\n",
    "print(my_list)\n"
   ]
  },
  {
   "cell_type": "markdown",
   "id": "3f9b190c-494f-463b-9876-ccbca20d5267",
   "metadata": {},
   "source": [
    "#### 15. Implement a code to find and remove duplicate from a list while preserving the original order of elements. "
   ]
  },
  {
   "cell_type": "code",
   "execution_count": 21,
   "id": "7720b6b4-182b-4386-bd1e-5553c571f2e1",
   "metadata": {},
   "outputs": [
    {
     "name": "stdout",
     "output_type": "stream",
     "text": [
      "[1, 2, 3, 4, 5]\n"
     ]
    }
   ],
   "source": [
    "def remove_duplicates(lst):\n",
    "    seen = set()\n",
    "    return [x for x in lst if not (x in seen or seen.add(x))]\n",
    "\n",
    "# Example usage\n",
    "my_list = [1, 2, 3, 2, 4, 1, 5]\n",
    "result = remove_duplicates(my_list)\n",
    "print(result)\n"
   ]
  },
  {
   "cell_type": "markdown",
   "id": "661104b4-0f0a-490a-bbee-3ad9be8de6e9",
   "metadata": {},
   "source": [
    "#### 16. Create a code to check if a given list is sorted( eitherin ascending or descending order) or not."
   ]
  },
  {
   "cell_type": "code",
   "execution_count": 2,
   "id": "e6f98d56-1f40-4653-9ff8-4bb544120ede",
   "metadata": {},
   "outputs": [
    {
     "name": "stdout",
     "output_type": "stream",
     "text": [
      "True\n"
     ]
    }
   ],
   "source": [
    "def is_sorted(lst):\n",
    "    return lst == sorted(lst) or lst == sorted(lst, reverse=True)\n",
    "\n",
    "# Example usage\n",
    "lst = [5, 4, 3, 2, 1]\n",
    "print(is_sorted(lst))  # Output: True\n"
   ]
  },
  {
   "cell_type": "markdown",
   "id": "b72263d9-be4c-416d-848e-24289031505d",
   "metadata": {},
   "source": [
    "#### 17. Write a code to merge two sorted lists into a single sorted list."
   ]
  },
  {
   "cell_type": "code",
   "execution_count": 3,
   "id": "f3ecb041-c5d5-4548-9a3e-589fee4698e7",
   "metadata": {},
   "outputs": [
    {
     "name": "stdout",
     "output_type": "stream",
     "text": [
      "[1, 2, 3, 4, 5, 6]\n"
     ]
    }
   ],
   "source": [
    "def merge_sorted_lists(lst1, lst2):\n",
    "    return sorted(lst1 + lst2)\n",
    "\n",
    "# Example usage\n",
    "list1 = [1, 3, 5]\n",
    "list2 = [2, 4, 6]\n",
    "print(merge_sorted_lists(list1, list2))  # Output: [1, 2, 3, 4, 5, 6]\n"
   ]
  },
  {
   "cell_type": "markdown",
   "id": "f443e2d0-a48a-4720-a6c4-1246d66acb44",
   "metadata": {},
   "source": [
    "#### 18. Implement a code to find the intersection of two given lists."
   ]
  },
  {
   "cell_type": "code",
   "execution_count": 4,
   "id": "92251da3-0957-43d3-8c9d-f44258ac2a4d",
   "metadata": {},
   "outputs": [
    {
     "name": "stdout",
     "output_type": "stream",
     "text": [
      "[3, 4]\n"
     ]
    }
   ],
   "source": [
    "def list_intersection(lst1, lst2):\n",
    "    return list(set(lst1) & set(lst2))\n",
    "\n",
    "# Example usage\n",
    "list1 = [1, 2, 3, 4]\n",
    "list2 = [3, 4, 5, 6]\n",
    "print(list_intersection(list1, list2))  # Output: [3, 4]\n"
   ]
  },
  {
   "cell_type": "markdown",
   "id": "6ce7d77d-f1d7-4b4f-a95b-40743fc54361",
   "metadata": {},
   "source": [
    "#### 19. Create a code to find the union of two lists without duplicates."
   ]
  },
  {
   "cell_type": "code",
   "execution_count": 5,
   "id": "7369d27f-d8a6-4c42-ba4c-ba8c254aa14b",
   "metadata": {},
   "outputs": [
    {
     "name": "stdout",
     "output_type": "stream",
     "text": [
      "[1, 2, 3, 4, 5, 6]\n"
     ]
    }
   ],
   "source": [
    "def list_union(lst1, lst2):\n",
    "    return list(set(lst1) | set(lst2))\n",
    "\n",
    "# Example usage\n",
    "list1 = [1, 2, 3, 4]\n",
    "list2 = [3, 4, 5, 6]\n",
    "print(list_union(list1, list2))  # Output: [1, 2, 3, 4, 5, 6]\n",
    "\n"
   ]
  },
  {
   "cell_type": "markdown",
   "id": "9ddfb0c5-d11b-4cf5-8f92-fca5279fb137",
   "metadata": {},
   "source": [
    "#### 20. Write a code to shuffle a given list randomly without using any built-in shuffle functions."
   ]
  },
  {
   "cell_type": "code",
   "execution_count": 6,
   "id": "29321a1b-fb7d-4ab2-95d1-7abe581bb94f",
   "metadata": {},
   "outputs": [
    {
     "name": "stdout",
     "output_type": "stream",
     "text": [
      "[5, 1, 3, 4, 2]\n"
     ]
    }
   ],
   "source": [
    "import random\n",
    "\n",
    "def shuffle_list(lst):\n",
    "    shuffled = lst[:]\n",
    "    for i in range(len(shuffled)):\n",
    "        j = random.randint(0, len(shuffled) - 1)\n",
    "        shuffled[i], shuffled[j] = shuffled[j], shuffled[i]\n",
    "    return shuffled\n",
    "\n",
    "# Example usage\n",
    "lst = [1, 2, 3, 4, 5]\n",
    "print(shuffle_list(lst))  # Output: A shuffled version of lst\n"
   ]
  },
  {
   "cell_type": "markdown",
   "id": "053a1681-2618-4ae2-a84e-f8088f325869",
   "metadata": {},
   "source": [
    "#### 21. Write a code that takes two tuples as input and returns a new tuple containing elements that are common to both input tuples."
   ]
  },
  {
   "cell_type": "code",
   "execution_count": 7,
   "id": "0125e547-5dfd-41a3-9e12-8ffbf0ed8532",
   "metadata": {},
   "outputs": [
    {
     "name": "stdout",
     "output_type": "stream",
     "text": [
      "(3, 4)\n"
     ]
    }
   ],
   "source": [
    "def tuple_intersection(tup1, tup2):\n",
    "    return tuple(set(tup1) & set(tup2))\n",
    "\n",
    "# Example usage\n",
    "tup1 = (1, 2, 3, 4)\n",
    "tup2 = (3, 4, 5, 6)\n",
    "print(tuple_intersection(tup1, tup2))  # Output: (3, 4)\n"
   ]
  },
  {
   "cell_type": "markdown",
   "id": "7137410c-226b-4d67-b1ba-78177f8c3fbd",
   "metadata": {},
   "source": [
    "#### 22. Create a code that prompts the user to enter two sets of integers separated by commoas. Then, print the intersection of these two sets."
   ]
  },
  {
   "cell_type": "code",
   "execution_count": 2,
   "id": "bb893400-1097-46ec-9ce2-43cc9d5e1012",
   "metadata": {},
   "outputs": [
    {
     "name": "stdin",
     "output_type": "stream",
     "text": [
      "Enter integers separated by commas:  10\n",
      "Enter integers separated by commas:  35\n"
     ]
    },
    {
     "name": "stdout",
     "output_type": "stream",
     "text": [
      "Intersection: set()\n"
     ]
    }
   ],
   "source": [
    "def get_set_input():\n",
    "    return set(map(int, input(\"Enter integers separated by commas: \").split(',')))\n",
    "\n",
    "set1 = get_set_input()\n",
    "set2 = get_set_input()\n",
    "\n",
    "print(\"Intersection:\", set1 & set2)\n"
   ]
  },
  {
   "cell_type": "markdown",
   "id": "498e8d65-0c24-417e-bdd4-ac95f409c58d",
   "metadata": {},
   "source": [
    "#### 23. Write a code to concatenate two tuples. The function should take two tuples as input and return a new tuple containing elements from both input tuples."
   ]
  },
  {
   "cell_type": "code",
   "execution_count": 4,
   "id": "706e032d-675c-4d06-a9e4-e6a7e72b4dbb",
   "metadata": {},
   "outputs": [],
   "source": [
    "def concatenate_tuples(tuple1, tuple2):\n",
    "    return tuple1 + tuple2\n"
   ]
  },
  {
   "cell_type": "markdown",
   "id": "a44882a9-27ea-4dc8-b8fd-f5afb89c5d2b",
   "metadata": {},
   "source": [
    "You can use it like this:"
   ]
  },
  {
   "cell_type": "code",
   "execution_count": 6,
   "id": "934a569e-ab11-41a4-b670-72221c873c30",
   "metadata": {},
   "outputs": [
    {
     "name": "stdout",
     "output_type": "stream",
     "text": [
      "(1, 2, 3, 4, 5, 6)\n"
     ]
    }
   ],
   "source": [
    "t1 = (1, 2, 3)\n",
    "t2 = (4, 5, 6)\n",
    "result = concatenate_tuples(t1, t2)\n",
    "print(result)  # Output: (1, 2, 3, 4, 5, 6)\n"
   ]
  },
  {
   "cell_type": "markdown",
   "id": "0b3f985c-df75-410c-83e3-c6f1bd6a8c93",
   "metadata": {},
   "source": [
    "#### 24. Develop a code that prompts the user to input two sets of strings. Then, print the elements that are present in the first set but not in the second set.    "
   ]
  },
  {
   "cell_type": "code",
   "execution_count": 7,
   "id": "803f66c2-d06c-44f7-95ed-cb52bff8a66a",
   "metadata": {},
   "outputs": [
    {
     "name": "stdin",
     "output_type": "stream",
     "text": [
      "Enter elements for the first set (separated by spaces):  50\n",
      "Enter elements for the second set (separated by spaces):  80\n"
     ]
    },
    {
     "name": "stdout",
     "output_type": "stream",
     "text": [
      "Elements in the first set but not in the second set: {'50'}\n"
     ]
    }
   ],
   "source": [
    "def get_unique_elements():\n",
    "    # Get input from the user and convert them into sets\n",
    "    set1 = set(input(\"Enter elements for the first set (separated by spaces): \").split())\n",
    "    set2 = set(input(\"Enter elements for the second set (separated by spaces): \").split())\n",
    "\n",
    "    # Find elements in set1 but not in set2\n",
    "    unique_elements = set1 - set2\n",
    "\n",
    "    # Print the result\n",
    "    print(\"Elements in the first set but not in the second set:\", unique_elements)\n",
    "\n",
    "# Call the function\n",
    "get_unique_elements()\n"
   ]
  },
  {
   "cell_type": "markdown",
   "id": "d32ef5f7-70ad-4f7a-b517-7ff79af73ff5",
   "metadata": {},
   "source": [
    "##### Example usage:"
   ]
  },
  {
   "cell_type": "markdown",
   "id": "34f8f598-2be0-4455-bc01-0cc6b5963f8d",
   "metadata": {},
   "source": [
    "Enter elements for the first set (separated by spaces): apple orange banana\n",
    "Enter elements for the second set (separated by spaces): banana mango apple\n",
    "Elements in the first set but not in the second set: {'orange'}\n"
   ]
  },
  {
   "cell_type": "markdown",
   "id": "9c9fb9d3-5264-4ce5-a7ff-71215cae9f44",
   "metadata": {},
   "source": [
    "#### 25. Create a code that takes a tuple and two integers as input. The function should return a new tuple containing elements from the original tuple within the specified range of indices. "
   ]
  },
  {
   "cell_type": "code",
   "execution_count": 9,
   "id": "bd2481fd-8729-4731-9acb-7737a49d882b",
   "metadata": {},
   "outputs": [
    {
     "name": "stdout",
     "output_type": "stream",
     "text": [
      "(2, 3, 4)\n"
     ]
    }
   ],
   "source": [
    "def slice_tuple(tup, start, end):\n",
    "    return tup[start:end]\n",
    "\n",
    "# Example usage\n",
    "t = (1, 2, 3, 4, 5, 6)\n",
    "print(slice_tuple(t, 1, 4))  # Output: (2, 3, 4)\n"
   ]
  },
  {
   "cell_type": "markdown",
   "id": "d050ebb7-f66e-41ab-9d0f-4b81a9dfab57",
   "metadata": {},
   "source": [
    "#### 26. Write a code that prompts the user to input two sets of characters. Then, print the union of these two sets.  "
   ]
  },
  {
   "cell_type": "code",
   "execution_count": 12,
   "id": "75b9e859-c870-478f-927c-9b2c94c2fa6f",
   "metadata": {},
   "outputs": [
    {
     "name": "stdin",
     "output_type": "stream",
     "text": [
      "Enter characters for the first set:  25\n",
      "Enter characters for the second set:  30\n"
     ]
    },
    {
     "name": "stdout",
     "output_type": "stream",
     "text": [
      "Union of the two sets: {'0', '2', '5', '3'}\n"
     ]
    }
   ],
   "source": [
    "set1 = set(input(\"Enter characters for the first set: \"))\n",
    "set2 = set(input(\"Enter characters for the second set: \"))\n",
    "print(\"Union of the two sets:\", set1 | set2)\n"
   ]
  },
  {
   "cell_type": "markdown",
   "id": "49e2ab95-7303-4c52-9148-3589d827c922",
   "metadata": {},
   "source": [
    "#### 27. Develop a code that takes a tuple of integers as input. The function should return the maximum and minimum values from the tuple using tuple unpacking.  "
   ]
  },
  {
   "cell_type": "code",
   "execution_count": 13,
   "id": "4e73d4a1-2ed6-42f8-8659-5dd63b3990ed",
   "metadata": {},
   "outputs": [
    {
     "name": "stdout",
     "output_type": "stream",
     "text": [
      "Minimum: 1\n",
      "Maximum: 9\n"
     ]
    }
   ],
   "source": [
    "def find_min_max(tup):\n",
    "    min_val, max_val = min(tup), max(tup)\n",
    "    return min_val, max_val\n",
    "\n",
    "# Example usage\n",
    "t = (3, 5, 1, 9, 2)\n",
    "min_val, max_val = find_min_max(t)\n",
    "print(\"Minimum:\", min_val)\n",
    "print(\"Maximum:\", max_val)\n"
   ]
  },
  {
   "cell_type": "markdown",
   "id": "516ab2c8-45a3-408a-b358-449195e04664",
   "metadata": {},
   "source": [
    "#### 28. Create a code that defines two sets of integers. Then, print the union, intersection, and differences of these two sets.  \n",
    "\n"
   ]
  },
  {
   "cell_type": "code",
   "execution_count": 14,
   "id": "889392a1-203b-421a-b5fd-0b5b0b8bc0ff",
   "metadata": {},
   "outputs": [
    {
     "name": "stdout",
     "output_type": "stream",
     "text": [
      "Union: {1, 2, 3, 4, 5, 6}\n",
      "Intersection: {3, 4}\n",
      "Difference (set1 - set2): {1, 2}\n",
      "Difference (set2 - set1): {5, 6}\n"
     ]
    }
   ],
   "source": [
    "# Define two sets\n",
    "set1 = {1, 2, 3, 4}\n",
    "set2 = {3, 4, 5, 6}\n",
    "\n",
    "# Print union, intersection, and differences\n",
    "print(\"Union:\", set1 | set2)\n",
    "print(\"Intersection:\", set1 & set2)\n",
    "print(\"Difference (set1 - set2):\", set1 - set2)\n",
    "print(\"Difference (set2 - set1):\", set2 - set1)\n"
   ]
  },
  {
   "cell_type": "markdown",
   "id": "d6a9a8a4-7647-45bc-8c92-1ef8e27e0dac",
   "metadata": {},
   "source": [
    "#### 29. Write a code that takes tuple and an element as input. The function should return the count of occurences of the given element in the tuple."
   ]
  },
  {
   "cell_type": "code",
   "execution_count": 15,
   "id": "e64f33b3-9eee-40ce-b466-2013b4154760",
   "metadata": {},
   "outputs": [
    {
     "name": "stdout",
     "output_type": "stream",
     "text": [
      "Count of occurrences: 3\n"
     ]
    }
   ],
   "source": [
    "def count_occurrences(tup, element):\n",
    "    return tup.count(element)\n",
    "\n",
    "# Example usage\n",
    "t = (1, 2, 3, 4, 1, 1, 5)\n",
    "element = 1\n",
    "print(\"Count of occurrences:\", count_occurrences(t, element))\n"
   ]
  },
  {
   "cell_type": "markdown",
   "id": "d306d16c-6cc0-4dbb-961c-e72bb83d555a",
   "metadata": {},
   "source": [
    "#### 30. Develop a code that prompts the user to input two sets of strings. Then, print the symmetric differences of these two sets. "
   ]
  },
  {
   "cell_type": "code",
   "execution_count": 17,
   "id": "9a03fdd3-5898-4c6a-8bef-7c109baeedf6",
   "metadata": {},
   "outputs": [
    {
     "name": "stdin",
     "output_type": "stream",
     "text": [
      "Enter elements for the first set (separated by spaces):  apple banana cherry\n",
      "Enter elements for the second set (separated by spaces):  banana mango cherry\n"
     ]
    },
    {
     "name": "stdout",
     "output_type": "stream",
     "text": [
      "Symmetric difference: {'apple', 'mango'}\n"
     ]
    }
   ],
   "source": [
    "# Input two sets of strings from the user\n",
    "set1 = set(input(\"Enter elements for the first set (separated by spaces): \").split())\n",
    "set2 = set(input(\"Enter elements for the second set (separated by spaces): \").split())\n",
    "\n",
    "# Print the symmetric difference\n",
    "print(\"Symmetric difference:\", set1 ^ set2)\n"
   ]
  },
  {
   "cell_type": "markdown",
   "id": "840bfe94-c447-412a-ade5-fb1b639e643e",
   "metadata": {},
   "source": [
    "#### 31.  Write a code that takes a list of words as input and returns a dictionary where the keys are unique words and the values are the frequencies of those words in the input list."
   ]
  },
  {
   "cell_type": "code",
   "execution_count": 1,
   "id": "86cd6ec5-b8c7-444c-a73b-694cf62832cf",
   "metadata": {},
   "outputs": [
    {
     "name": "stdout",
     "output_type": "stream",
     "text": [
      "{'apple': 3, 'banana': 2, 'orange': 1}\n"
     ]
    }
   ],
   "source": [
    "def count_word_frequencies(word_list):\n",
    "    frequency_dict = {}\n",
    "    for word in word_list:\n",
    "        if word in frequency_dict:\n",
    "            frequency_dict[word] += 1\n",
    "        else:\n",
    "            frequency_dict[word] = 1\n",
    "    return frequency_dict\n",
    "\n",
    "# Example usage:\n",
    "words = ['apple', 'banana', 'apple', 'orange', 'banana', 'apple']\n",
    "print(count_word_frequencies(words))\n"
   ]
  },
  {
   "cell_type": "markdown",
   "id": "4193be00-cc20-4b7a-9507-9af662e28175",
   "metadata": {},
   "source": [
    "#### 32. Write a code that takes two dictionaries as input and merges them into a single dictionary. If there are common keys, the values should be added together."
   ]
  },
  {
   "cell_type": "code",
   "execution_count": 2,
   "id": "ea75f809-489e-41d8-9cd3-57b94b5014a8",
   "metadata": {},
   "outputs": [
    {
     "name": "stdout",
     "output_type": "stream",
     "text": [
      "{'a': 5, 'b': 5, 'c': 15, 'd': 1}\n"
     ]
    }
   ],
   "source": [
    "def merge_dictionaries(dict1, dict2):\n",
    "    merged_dict = dict1.copy()  # Copy to avoid modifying the original\n",
    "    for key, value in dict2.items():\n",
    "        if key in merged_dict:\n",
    "            merged_dict[key] += value\n",
    "        else:\n",
    "            merged_dict[key] = value\n",
    "    return merged_dict\n",
    "\n",
    "# Example usage:\n",
    "dict1 = {'a': 5, 'b': 2, 'c': 7}\n",
    "dict2 = {'b': 3, 'c': 8, 'd': 1}\n",
    "print(merge_dictionaries(dict1, dict2))\n"
   ]
  },
  {
   "cell_type": "markdown",
   "id": "86b505f8-8ba4-4bef-9538-8f737ba98b40",
   "metadata": {},
   "source": [
    "#### 33.  Write a code to access a value in a nested dictionary. The function should take the dictionary and a list of keys as input, and return the corresponding value. If any of the keys do not exist in the dictionary, the function should return None."
   ]
  },
  {
   "cell_type": "code",
   "execution_count": 3,
   "id": "b1861c49-1564-4b84-a157-b7809865228b",
   "metadata": {},
   "outputs": [
    {
     "name": "stdout",
     "output_type": "stream",
     "text": [
      "42\n",
      "None\n"
     ]
    }
   ],
   "source": [
    "def access_nested_value(nested_dict, key_list):\n",
    "    current_dict = nested_dict\n",
    "    for key in key_list:\n",
    "        if isinstance(current_dict, dict) and key in current_dict:\n",
    "            current_dict = current_dict[key]\n",
    "        else:\n",
    "            return None\n",
    "    return current_dict\n",
    "\n",
    "# Example usage:\n",
    "nested_dict = {'a': {'b': {'c': 42}}}\n",
    "keys = ['a', 'b', 'c']\n",
    "print(access_nested_value(nested_dict, keys))  # Output: 42\n",
    "\n",
    "keys = ['a', 'b', 'd']\n",
    "print(access_nested_value(nested_dict, keys))  # Output: None\n"
   ]
  },
  {
   "cell_type": "markdown",
   "id": "181e6678-02ef-4252-b56e-466408d85809",
   "metadata": {},
   "source": [
    "#### 34. Write a code that takes a dictionary as input and returns a sorted version of it based on the values. You can choose whether to sort in ascending or descending order."
   ]
  },
  {
   "cell_type": "code",
   "execution_count": 4,
   "id": "24801ab8-6c32-4e99-a8ae-4edbc844a699",
   "metadata": {},
   "outputs": [
    {
     "name": "stdout",
     "output_type": "stream",
     "text": [
      "{'b': 1, 'c': 2, 'a': 3}\n",
      "{'a': 3, 'c': 2, 'b': 1}\n"
     ]
    }
   ],
   "source": [
    "def sort_dictionary_by_values(input_dict, descending=False):\n",
    "    sorted_dict = dict(sorted(input_dict.items(), key=lambda item: item[1], reverse=descending))\n",
    "    return sorted_dict\n",
    "\n",
    "# Example usage:\n",
    "dict_to_sort = {'a': 3, 'b': 1, 'c': 2}\n",
    "print(sort_dictionary_by_values(dict_to_sort))  # Output: {'b': 1, 'c': 2, 'a': 3}\n",
    "print(sort_dictionary_by_values(dict_to_sort, descending=True))  # Output: {'a': 3, 'c': 2, 'b': 1}\n"
   ]
  },
  {
   "cell_type": "markdown",
   "id": "8537c958-5004-407a-b948-408aa84c0143",
   "metadata": {},
   "source": [
    "#### 35.  Write a code that inverts a dictionary, swapping keys and values. Ensure that the inverted dictionary correctly handles cases where multiple keys have the same value by storing the keys as a list in the inverted dictionary."
   ]
  },
  {
   "cell_type": "code",
   "execution_count": 5,
   "id": "9a89b4ae-5d00-4659-bbb9-c83b03756d0f",
   "metadata": {},
   "outputs": [
    {
     "name": "stdout",
     "output_type": "stream",
     "text": [
      "{1: ['a', 'c'], 2: ['b']}\n"
     ]
    }
   ],
   "source": [
    "def invert_dictionary(input_dict):\n",
    "    inverted_dict = {}\n",
    "    for key, value in input_dict.items():\n",
    "        if value in inverted_dict:\n",
    "            inverted_dict[value].append(key)\n",
    "        else:\n",
    "            inverted_dict[value] = [key]\n",
    "    return inverted_dict\n",
    "\n",
    "# Example usage:\n",
    "dict_to_invert = {'a': 1, 'b': 2, 'c': 1}\n",
    "print(invert_dictionary(dict_to_invert))  # Output: {1: ['a', 'c'], 2: ['b']}\n"
   ]
  },
  {
   "cell_type": "code",
   "execution_count": null,
   "id": "1806a7fe-e738-4ae7-94f4-0ed90a7e013c",
   "metadata": {},
   "outputs": [],
   "source": []
  }
 ],
 "metadata": {
  "kernelspec": {
   "display_name": "Python 3 (ipykernel)",
   "language": "python",
   "name": "python3"
  },
  "language_info": {
   "codemirror_mode": {
    "name": "ipython",
    "version": 3
   },
   "file_extension": ".py",
   "mimetype": "text/x-python",
   "name": "python",
   "nbconvert_exporter": "python",
   "pygments_lexer": "ipython3",
   "version": "3.12.6"
  }
 },
 "nbformat": 4,
 "nbformat_minor": 5
}
