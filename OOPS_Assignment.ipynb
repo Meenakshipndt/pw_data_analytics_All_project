{
 "cells": [
  {
   "cell_type": "markdown",
   "id": "bdc2ee60-d08e-4d19-89a5-1368662149f6",
   "metadata": {},
   "source": [
    "# OOPS  assignment"
   ]
  },
  {
   "cell_type": "markdown",
   "id": "bc9ebb38-cebe-4fcb-a9a3-25d5df200047",
   "metadata": {},
   "source": [
    "### 1. What are the five key concepts of object-oriented programming (OOP)."
   ]
  },
  {
   "cell_type": "markdown",
   "id": "0bc780ab-67f4-4d18-9511-0bc258a4b450",
   "metadata": {},
   "source": [
    "The five key concepts of OOP in short are:\n",
    "\n",
    "+ Encapsulation: Bundles data and methods, restricting access to internal details.\n",
    "+ Abstraction: Hides complex details, exposing only essential features.\n",
    "+ Inheritance: Allows classes to inherit properties and behaviors from parent classes.\n",
    "+ Polymorphism: Enables one interface to represent multiple forms (method overloading/overriding).\n",
    "+ Association, Aggregation, Composition: Relationships between objects; composition implies stronger ownership."
   ]
  },
  {
   "cell_type": "markdown",
   "id": "30fa954d-3809-4d87-a712-92e36e5d688e",
   "metadata": {},
   "source": [
    "### 2. Write a python class for a 'Car' with attributes for 'make' ,'model' and 'year'. Include a method to display the car's information."
   ]
  },
  {
   "cell_type": "markdown",
   "id": "40c260bd-855b-4ec1-9f4c-cace6d528a26",
   "metadata": {},
   "source": [
    "Here’s a short Python class for a Car with the specified attributes:"
   ]
  },
  {
   "cell_type": "code",
   "execution_count": 1,
   "id": "fa27f6a5-6b0d-4a81-8b87-34aea77926cc",
   "metadata": {},
   "outputs": [
    {
     "name": "stdout",
     "output_type": "stream",
     "text": [
      "2020 Toyota Corolla\n"
     ]
    }
   ],
   "source": [
    "class Car:\n",
    "    def __init__(self, make, model, year):\n",
    "        self.make = make\n",
    "        self.model = model\n",
    "        self.year = year\n",
    "    \n",
    "    def display_info(self):\n",
    "        print(f\"{self.year} {self.make} {self.model}\")\n",
    "\n",
    "# Example usage\n",
    "my_car = Car(\"Toyota\", \"Corolla\", 2020)\n",
    "my_car.display_info()  # Output: 2020 Toyota Corolla\n"
   ]
  },
  {
   "cell_type": "markdown",
   "id": "12dfe90d-00a7-47e3-90c6-08991cccd588",
   "metadata": {},
   "source": [
    "### 3. Explain the difference between instance method and class methods. provide an example of each."
   ]
  },
  {
   "cell_type": "markdown",
   "id": "3b58d696-664d-41fe-9a4c-f5ab664ca500",
   "metadata": {},
   "source": [
    "#### Instance Method:\n",
    "\n"
   ]
  },
  {
   "cell_type": "markdown",
   "id": "e302d2a7-7811-4c9b-8146-a63b1add527f",
   "metadata": {},
   "source": [
    "+ Belongs to an instance of a class.\n",
    "+ Can access and modify instance attributes.\n",
    "+ Requires self as the first parameter."
   ]
  },
  {
   "cell_type": "markdown",
   "id": "d3b69807-ffca-4c03-915d-66fea61c931b",
   "metadata": {},
   "source": [
    "#### Class Method:"
   ]
  },
  {
   "cell_type": "markdown",
   "id": "1377cf8f-beef-41a5-ad8e-fe1b856cb483",
   "metadata": {},
   "source": [
    "+ Belongs to the class itself, not an instance.\n",
    "+ Works with class attributes, not instance attributes.\n",
    "+ Requires cls as the first parameter and is defined using @classmethod"
   ]
  },
  {
   "cell_type": "code",
   "execution_count": 4,
   "id": "18046fbc-5fa3-4840-87a5-702f20d22af3",
   "metadata": {},
   "outputs": [
    {
     "name": "stdout",
     "output_type": "stream",
     "text": [
      "Instance Attribute: Instance Attribute\n",
      "Class Attribute: Class Attribute\n"
     ]
    }
   ],
   "source": [
    "class MyClass:\n",
    "    class_attr = \"Class Attribute\"\n",
    "    \n",
    "    def __init__(self, value):\n",
    "        self.instance_attr = value\n",
    "\n",
    "    # Instance Method\n",
    "    def instance_method(self):\n",
    "        return f\"Instance Attribute: {self.instance_attr}\"\n",
    "    \n",
    "    # Class Method\n",
    "    @classmethod\n",
    "    def class_method(cls):\n",
    "        return f\"Class Attribute: {cls.class_attr}\"\n",
    "\n",
    "# Example usage\n",
    "obj = MyClass(\"Instance Attribute\")\n",
    "print(obj.instance_method())   # Accesses instance attribute\n",
    "print(MyClass.class_method())  # Accesses class attribute\n"
   ]
  },
  {
   "cell_type": "markdown",
   "id": "4bc1704c-b744-4747-b148-04608d12f4c6",
   "metadata": {},
   "source": [
    "#### 4. How does python implement method overloading? Give an example."
   ]
  },
  {
   "cell_type": "markdown",
   "id": "8291d953-0b58-4465-bbfb-ac4449f21f3c",
   "metadata": {},
   "source": [
    "\n",
    "Python does not support method overloading directly. Instead, it uses techniques like:\n",
    "\n"
   ]
  },
  {
   "cell_type": "markdown",
   "id": "54930513-c305-4b8a-8e7b-c18eb99d6c4c",
   "metadata": {},
   "source": [
    "+ Default arguments: Set default values for parameters.\n",
    "+ *args or **kwargs: Allow a variable number of arguments.\n",
    "+ Type or argument checks inside the method."
   ]
  },
  {
   "cell_type": "code",
   "execution_count": 7,
   "id": "db9c4eed-3812-4cea-9a3e-93f1142d082c",
   "metadata": {},
   "outputs": [
    {
     "name": "stdout",
     "output_type": "stream",
     "text": [
      "One argument: 5\n",
      "Two arguments: 5, 10\n"
     ]
    }
   ],
   "source": [
    "class MyClass:\n",
    "    def my_method(self, *args):\n",
    "        if len(args) == 1:\n",
    "            print(f\"One argument: {args[0]}\")\n",
    "        elif len(args) == 2:\n",
    "            print(f\"Two arguments: {args[0]}, {args[1]}\")\n",
    "\n",
    "# Usage\n",
    "obj = MyClass()\n",
    "obj.my_method(5)            # Output: One argument: 5\n",
    "obj.my_method(5, 10)        # Output: Two arguments: 5, 10\n"
   ]
  },
  {
   "cell_type": "markdown",
   "id": "bbd49e6c-0d09-4c19-8cb2-d8214f779f9e",
   "metadata": {},
   "source": [
    "#### 5. What are the three types of access modifiers in python? How are they denoted?"
   ]
  },
  {
   "cell_type": "markdown",
   "id": "8e0aeec9-e620-4bef-83fd-3b4832bbe5f3",
   "metadata": {},
   "source": [
    "In Python, there are three types of access modifiers:\n",
    "\n"
   ]
  },
  {
   "cell_type": "markdown",
   "id": "9a10a9f7-21a3-45bb-96cc-d2f32200d97a",
   "metadata": {},
   "source": [
    "##### 1.Public:"
   ]
  },
  {
   "cell_type": "markdown",
   "id": "93ce89cb-34a4-4df5-85b3-a3159c93547f",
   "metadata": {},
   "source": [
    "+ Accessible from anywhere.\n",
    "+ Denoted by default (no underscore).\n",
    "+ Example: self.name\n"
   ]
  },
  {
   "cell_type": "markdown",
   "id": "d9ce6a6d-68fd-4787-adc3-ead7053b0479",
   "metadata": {},
   "source": [
    "##### 2. Protected:"
   ]
  },
  {
   "cell_type": "markdown",
   "id": "18df10fe-e38a-42e2-bd94-05d946f8109b",
   "metadata": {},
   "source": [
    "+ Accessible within the class and its subclasses.\n",
    "+ Denoted with a single underscore (_).\n",
    "+ Example: self._age\n"
   ]
  },
  {
   "cell_type": "markdown",
   "id": "5ff0188e-52e8-4e50-af93-30aeb9757f29",
   "metadata": {},
   "source": [
    "##### 3. Private:"
   ]
  },
  {
   "cell_type": "markdown",
   "id": "016d9be0-15da-4f37-894f-d32bbc4e911e",
   "metadata": {},
   "source": [
    "+ Accessible only within the class (name mangling is used to restrict access).\n",
    "+ Denoted with double underscores (__).\n",
    "+ Example: self.__salary"
   ]
  },
  {
   "cell_type": "markdown",
   "id": "57604d9e-8cd4-48d8-9df8-37a5694b8385",
   "metadata": {},
   "source": [
    "#### 6. Describe the five types of inheritance in python. Provide a simple example of multiple inheritance."
   ]
  },
  {
   "cell_type": "markdown",
   "id": "c72455be-649a-475d-a927-d509fd3f0fce",
   "metadata": {},
   "source": [
    "##### Five Types of Inheritance in Python:"
   ]
  },
  {
   "cell_type": "markdown",
   "id": "a236e017-bc41-4245-9fb7-e46175218a15",
   "metadata": {},
   "source": [
    "1. Single Inheritance: A class inherits from one parent class.\n",
    "2. Multiple Inheritance: A class inherits from more than one parent class.\n",
    "3. Multilevel Inheritance: A class inherits from a parent, which in turn inherits from another parent.\n",
    "4. Hierarchical Inheritance: Multiple classes inherit from a single parent class.\n",
    "5. Hybrid Inheritance: A combination of two or more types of inheritance (e.g., multiple and multilevel)."
   ]
  },
  {
   "cell_type": "code",
   "execution_count": 11,
   "id": "49a5f914-4db4-4bc7-bab3-eaa8b961dcf8",
   "metadata": {},
   "outputs": [
    {
     "name": "stdout",
     "output_type": "stream",
     "text": [
      "Feature 1 from Parent1\n",
      "Feature 2 from Parent2\n",
      "Feature 3 from Child\n"
     ]
    }
   ],
   "source": [
    "class Parent1:\n",
    "    def feature1(self):\n",
    "        print(\"Feature 1 from Parent1\")\n",
    "\n",
    "class Parent2:\n",
    "    def feature2(self):\n",
    "        print(\"Feature 2 from Parent2\")\n",
    "\n",
    "class Child(Parent1, Parent2):\n",
    "    def feature3(self):\n",
    "        print(\"Feature 3 from Child\")\n",
    "\n",
    "# Example usage\n",
    "obj = Child()\n",
    "obj.feature1()  # Inherited from Parent1\n",
    "obj.feature2()  # Inherited from Parent2\n",
    "obj.feature3()  # From Child\n"
   ]
  },
  {
   "cell_type": "markdown",
   "id": "20b2c089-18e8-4eef-970b-12419985d707",
   "metadata": {},
   "source": [
    "#### 7. What is the Method Resolution Order (OMR) in Python ? How can you retrieve it programmatically? "
   ]
  },
  {
   "cell_type": "markdown",
   "id": "d11a2af3-d7ae-4a2b-9a9e-c053381b2c12",
   "metadata": {},
   "source": [
    "##### Method Resolution Order (MRO) in Python:"
   ]
  },
  {
   "cell_type": "markdown",
   "id": "199aa1eb-6b86-4fd5-b4f0-c621babffdcb",
   "metadata": {},
   "source": [
    "MRO determines the order in which classes are searched when executing a method, especially in multiple inheritance scenarios. It ensures a consistent method lookup order. "
   ]
  },
  {
   "cell_type": "markdown",
   "id": "00fcfb50-f7e2-4299-9603-13a557599e1c",
   "metadata": {},
   "source": [
    "##### Retrieving MRO Programmatically:"
   ]
  },
  {
   "cell_type": "markdown",
   "id": "8d1d2155-9d37-4d33-b030-0688cfccbf8c",
   "metadata": {},
   "source": [
    "You can retrieve the MRO of a class using:\n",
    "\n",
    "1. ClassName.__mro__: Returns a tuple of classes in MRO.\n",
    "2. ClassName.mro(): Returns a list of classes in MRO."
   ]
  },
  {
   "cell_type": "code",
   "execution_count": 13,
   "id": "d1e408a8-a2ec-4750-a14b-20d9da529e56",
   "metadata": {},
   "outputs": [
    {
     "name": "stdout",
     "output_type": "stream",
     "text": [
      "(<class '__main__.D'>, <class '__main__.B'>, <class '__main__.C'>, <class '__main__.A'>, <class 'object'>)\n"
     ]
    }
   ],
   "source": [
    "class A: pass\n",
    "class B(A): pass\n",
    "class C(A): pass\n",
    "class D(B, C): pass\n",
    "\n",
    "# Retrieve MRO\n",
    "print(D.__mro__)  # or print(D.mro())\n"
   ]
  },
  {
   "cell_type": "markdown",
   "id": "5cc32ae1-548c-4386-877b-760053369fa5",
   "metadata": {},
   "source": [
    "#### 8. Create  an abstract base class 'Shape' with an abstract method 'area()'. Then create two subclasses 'Circle' and 'Rectangle' that implement the 'area'()' method. "
   ]
  },
  {
   "cell_type": "markdown",
   "id": "94415df9-0d35-4adb-bd69-b1fec8ba18de",
   "metadata": {},
   "source": [
    "Here’s a simple implementation of an abstract base class Shape and its subclasses Circle and Rectangle:"
   ]
  },
  {
   "cell_type": "code",
   "execution_count": 15,
   "id": "f9f062a4-d14f-4c10-9955-245cac9de450",
   "metadata": {},
   "outputs": [
    {
     "name": "stdout",
     "output_type": "stream",
     "text": [
      "78.53981633974483\n",
      "24\n"
     ]
    }
   ],
   "source": [
    "from abc import ABC, abstractmethod\n",
    "import math\n",
    "\n",
    "# Abstract base class\n",
    "class Shape(ABC):\n",
    "    @abstractmethod\n",
    "    def area(self):\n",
    "        pass\n",
    "\n",
    "# Subclass for Circle\n",
    "class Circle(Shape):\n",
    "    def __init__(self, radius):\n",
    "        self.radius = radius\n",
    "\n",
    "    def area(self):\n",
    "        return math.pi * (self.radius ** 2)\n",
    "\n",
    "# Subclass for Rectangle\n",
    "class Rectangle(Shape):\n",
    "    def __init__(self, width, height):\n",
    "        self.width = width\n",
    "        self.height = height\n",
    "\n",
    "    def area(self):\n",
    "        return self.width * self.height\n",
    "\n",
    "# Example usage\n",
    "circle = Circle(5)\n",
    "rectangle = Rectangle(4, 6)\n",
    "print(circle.area())     # Output: Area of the circle\n",
    "print(rectangle.area())  # Output: Area of the rectangle\n"
   ]
  },
  {
   "cell_type": "markdown",
   "id": "b1c8e2ab-f705-413b-9c7a-39c1466f848b",
   "metadata": {},
   "source": [
    "This implementation defines the Shape class with an abstract method area(), which is implemented in both Circle and Rectangle subclasses."
   ]
  },
  {
   "cell_type": "markdown",
   "id": "7f0b03a5-d916-4326-8b0b-8d9e55898d79",
   "metadata": {},
   "source": [
    "#### 9.Demonstrate polymorphism by creating a function that can work with difference   shape objects to calculate and print their areas. "
   ]
  },
  {
   "cell_type": "markdown",
   "id": "71f35e36-974b-4732-9d47-d07dadd73089",
   "metadata": {},
   "source": [
    "Here’s a demonstration of polymorphism using a function that calculates and prints the area for different shape objects:"
   ]
  },
  {
   "cell_type": "code",
   "execution_count": 18,
   "id": "cb9525ba-ccfc-4426-af97-dd14b24bf164",
   "metadata": {},
   "outputs": [
    {
     "name": "stdout",
     "output_type": "stream",
     "text": [
      "Area: 78.53981633974483\n",
      "Area: 24\n"
     ]
    }
   ],
   "source": [
    "from abc import ABC, abstractmethod\n",
    "import math\n",
    "\n",
    "# Abstract base class\n",
    "class Shape(ABC):\n",
    "    @abstractmethod\n",
    "    def area(self):\n",
    "        pass\n",
    "\n",
    "# Subclass for Circle\n",
    "class Circle(Shape):\n",
    "    def __init__(self, radius):\n",
    "        self.radius = radius\n",
    "\n",
    "    def area(self):\n",
    "        return math.pi * (self.radius ** 2)\n",
    "\n",
    "# Subclass for Rectangle\n",
    "class Rectangle(Shape):\n",
    "    def __init__(self, width, height):\n",
    "        self.width = width\n",
    "        self.height = height\n",
    "\n",
    "    def area(self):\n",
    "        return self.width * self.height\n",
    "\n",
    "# Function to calculate and print area\n",
    "def print_area(shape: Shape):\n",
    "    print(f\"Area: {shape.area()}\")\n",
    "\n",
    "# Example usage\n",
    "circle = Circle(5)\n",
    "rectangle = Rectangle(4, 6)\n",
    "\n",
    "print_area(circle)     # Output: Area of the circle\n",
    "print_area(rectangle)  # Output: Area of the rectangle\n"
   ]
  },
  {
   "cell_type": "markdown",
   "id": "38ad46fb-e8f0-4edf-8ef1-dd8f1017d6e7",
   "metadata": {},
   "source": [
    "In this example, the print_area function works with any object of type Shape, demonstrating polymorphism by calling the area() method specific to each shape."
   ]
  },
  {
   "cell_type": "markdown",
   "id": "25521fa4-b141-4c0e-9c42-e1ce447167ac",
   "metadata": {},
   "source": [
    "#### 10.  Implement encapsulation in a 'Bank Account' class with private attributes for 'balance' and 'account_number' . Include methods for deposit, withdrawal, and balance inquiry. "
   ]
  },
  {
   "cell_type": "markdown",
   "id": "fa5cb513-dcc4-40b3-a8af-c4d271b630b3",
   "metadata": {},
   "source": [
    "Here’s a simple implementation of encapsulation in a BankAccount class:"
   ]
  },
  {
   "cell_type": "code",
   "execution_count": 21,
   "id": "ed00d10f-e0f1-4bae-9658-30387f2ffb92",
   "metadata": {},
   "outputs": [
    {
     "name": "stdout",
     "output_type": "stream",
     "text": [
      "Deposited: 1000\n",
      "Withdrew: 500\n",
      "Current Balance: 500\n"
     ]
    }
   ],
   "source": [
    "class BankAccount:\n",
    "    def __init__(self, account_number):\n",
    "        self.__account_number = account_number  # Private attribute\n",
    "        self.__balance = 0  # Private attribute\n",
    "\n",
    "    def deposit(self, amount):\n",
    "        if amount > 0:\n",
    "            self.__balance += amount\n",
    "            print(f\"Deposited: {amount}\")\n",
    "        else:\n",
    "            print(\"Deposit amount must be positive.\")\n",
    "\n",
    "    def withdraw(self, amount):\n",
    "        if 0 < amount <= self.__balance:\n",
    "            self.__balance -= amount\n",
    "            print(f\"Withdrew: {amount}\")\n",
    "        else:\n",
    "            print(\"Invalid withdrawal amount.\")\n",
    "\n",
    "    def get_balance(self):\n",
    "        return self.__balance\n",
    "\n",
    "# Example usage\n",
    "account = BankAccount(\"12345678\")\n",
    "account.deposit(1000)\n",
    "account.withdraw(500)\n",
    "print(\"Current Balance:\", account.get_balance())  # Output: Current Balance: 500\n"
   ]
  },
  {
   "cell_type": "markdown",
   "id": "ac2460c9-45c6-4e39-bf2f-c06ab99a451c",
   "metadata": {},
   "source": [
    "In this implementation, balance and account_number are private attributes, and methods are provided to deposit, withdraw, and inquire about the balance, ensuring controlled access to the account data."
   ]
  },
  {
   "cell_type": "markdown",
   "id": "834469fa-ffbb-4d33-a897-05ae03bccb01",
   "metadata": {},
   "source": [
    "#### 11.Write a class that overrides the '__str__'and'__add__' magic methods. what will these methods allow you to do?"
   ]
  },
  {
   "cell_type": "markdown",
   "id": "5bd78aba-cbab-4cc4-a573-bc18f0032910",
   "metadata": {},
   "source": [
    "Here's an example of a class that overrides the __str__ and __add__ magic methods:"
   ]
  },
  {
   "cell_type": "code",
   "execution_count": 1,
   "id": "639f2f37-ed64-4204-824a-bc141e06e8f7",
   "metadata": {},
   "outputs": [
    {
     "name": "stdout",
     "output_type": "stream",
     "text": [
      "MyClass with value: 10\n",
      "MyClass with value: 30\n"
     ]
    }
   ],
   "source": [
    "class MyClass:\n",
    "    def __init__(self, value):\n",
    "        self.value = value\n",
    "\n",
    "    # Overriding __str__ method\n",
    "    def __str__(self):\n",
    "        return f\"MyClass with value: {self.value}\"\n",
    "\n",
    "    # Overriding __add__ method\n",
    "    def __add__(self, other):\n",
    "        if isinstance(other, MyClass):\n",
    "            return MyClass(self.value + other.value)\n",
    "        return NotImplemented\n",
    "\n",
    "# Testing the class\n",
    "obj1 = MyClass(10)\n",
    "obj2 = MyClass(20)\n",
    "\n",
    "print(str(obj1))  # Will print: MyClass with value: 10\n",
    "result = obj1 + obj2  # Will create a new MyClass object with value 30\n",
    "print(result)  # Will print: MyClass with value: 30\n"
   ]
  },
  {
   "cell_type": "markdown",
   "id": "e67f1dcd-c222-48e1-a952-7e2085242433",
   "metadata": {},
   "source": [
    "##### What these methods do:"
   ]
  },
  {
   "cell_type": "markdown",
   "id": "14f6ad50-3b93-4207-b997-e4c4acd9235c",
   "metadata": {},
   "source": [
    "+ __str__: Defines how the object will be represented when you print it or convert it to a string using str(). Without overriding, it would just show the default memory address. In the example, it returns a more readable description of the object.\n",
    "\n",
    "+ __add__: Enables the use of the + operator between instances of the class. In this case, adding two MyClass objects creates a new object with the summed values.\n",
    "\n",
    "\n",
    "\n",
    "\n",
    "\n",
    "\n"
   ]
  },
  {
   "cell_type": "markdown",
   "id": "50f91054-3a49-497f-931b-5465b72945b9",
   "metadata": {},
   "source": [
    "#### 12. Create a decorator that measures and prints the execution time of a function. "
   ]
  },
  {
   "cell_type": "markdown",
   "id": "2001baf6-a09a-4ca2-9088-79f397e61244",
   "metadata": {},
   "source": [
    "Here's a short version of a decorator that measures and prints the execution time of a function:"
   ]
  },
  {
   "cell_type": "code",
   "execution_count": 2,
   "id": "40925ac6-359c-4974-a4e6-7d89736aef88",
   "metadata": {},
   "outputs": [
    {
     "name": "stdout",
     "output_type": "stream",
     "text": [
      "Execution time: 2.0101 seconds\n"
     ]
    }
   ],
   "source": [
    "import time\n",
    "\n",
    "def measure_time(func):\n",
    "    def wrapper(*args, **kwargs):\n",
    "        start = time.time()\n",
    "        result = func(*args, **kwargs)\n",
    "        print(f\"Execution time: {time.time() - start:.4f} seconds\")\n",
    "        return result\n",
    "    return wrapper\n",
    "\n",
    "@measure_time\n",
    "def my_function():\n",
    "    time.sleep(2)\n",
    "\n",
    "my_function()\n"
   ]
  },
  {
   "cell_type": "markdown",
   "id": "6b4c4607-7d3d-4105-aeea-64b66d9be8c7",
   "metadata": {},
   "source": [
    "This will output the execution time of my_function in seconds.\n",
    "\n",
    "\n",
    "\n",
    "\n",
    "\n",
    "\n"
   ]
  },
  {
   "cell_type": "markdown",
   "id": "7aed9b98-0e54-4961-8131-d5c73169e643",
   "metadata": {},
   "source": [
    "#### 13. Explain the concept of the Diamond Problem in multiple inheritance. how does Python resolve it."
   ]
  },
  {
   "cell_type": "markdown",
   "id": "89475f6b-0790-48a2-a348-e7e320b42aae",
   "metadata": {},
   "source": [
    "The Diamond Problem in multiple inheritance occurs when a class inherits from two classes that share a common ancestor, causing ambiguity about which parent class's method or attribute should be used."
   ]
  },
  {
   "cell_type": "code",
   "execution_count": null,
   "id": "7853d978-d270-4fd7-9581-4bc7b3cc5f47",
   "metadata": {},
   "outputs": [],
   "source": []
  },
  {
   "cell_type": "markdown",
   "id": "ad8b1eab-2f86-4440-a4f3-01c3f5a163fd",
   "metadata": {},
   "source": [
    "##### Example:"
   ]
  },
  {
   "cell_type": "markdown",
   "id": "abcc0618-b747-419f-a5e8-4b95f7e5cedd",
   "metadata": {},
   "source": [
    "    A\n",
    "   / \\\n",
    "  B   C\n",
    "   \\ /\n",
    "    D\n"
   ]
  },
  {
   "cell_type": "markdown",
   "id": "3f1f668a-3ce2-4c6c-b3aa-916f5eeefcbd",
   "metadata": {},
   "source": [
    "Class D inherits from both B and C, which both inherit from A. If A has a method, it's unclear whether D should use B's or C's version of that method."
   ]
  },
  {
   "cell_type": "markdown",
   "id": "c0f39d6e-88f4-465a-bfb2-cfbe96dc9e09",
   "metadata": {},
   "source": [
    "##### How Python Resolves It:"
   ]
  },
  {
   "cell_type": "markdown",
   "id": "b7d12cf0-bb28-4dc4-b230-91ef3011df7b",
   "metadata": {},
   "source": [
    "Python uses Method Resolution Order (MRO), a rule that determines the order in which methods are inherited, using C3 linearization. The super() function follows the MRO, ensuring each class is called in a consistent order, avoiding conflicts.\n",
    "\n",
    "You can check the MRO with ClassName.mro()"
   ]
  },
  {
   "cell_type": "markdown",
   "id": "2b7898d8-bc15-4b53-b787-dcccd995a564",
   "metadata": {},
   "source": [
    "#### 14. Write a class method that keeps track of the number of instances created from a class. "
   ]
  },
  {
   "cell_type": "code",
   "execution_count": 6,
   "id": "b7e0f8a3-ff9c-4810-95b5-b1da18e682dc",
   "metadata": {},
   "outputs": [
    {
     "name": "stdout",
     "output_type": "stream",
     "text": [
      "2\n"
     ]
    }
   ],
   "source": [
    "class MyClass:\n",
    "    count = 0  # Class variable to track instances\n",
    "\n",
    "    def __init__(self):\n",
    "        MyClass.count += 1  # Increment count on each instance creation\n",
    "\n",
    "    @classmethod\n",
    "    def get_instance_count(cls):\n",
    "        return cls.count  # Return the current count\n",
    "\n",
    "# Example usage:\n",
    "obj1 = MyClass()\n",
    "obj2 = MyClass()\n",
    "\n",
    "print(MyClass.get_instance_count())  # Output: 2\n"
   ]
  },
  {
   "cell_type": "markdown",
   "id": "942cd2cf-f848-40fc-8d5c-9d300683c304",
   "metadata": {},
   "source": [
    "The count variable tracks how many instances of MyClass have been created. The @classmethod allows access to this count via get_instance_count()."
   ]
  },
  {
   "cell_type": "markdown",
   "id": "22cb52a9-aa36-431d-a5f9-f253d4af3513",
   "metadata": {},
   "source": [
    "#### 15. Implement a static method in a class that checks if a given  year is a leap year. "
   ]
  },
  {
   "cell_type": "markdown",
   "id": "a5003995-3633-44df-97e5-dfb279163b8e",
   "metadata": {},
   "source": [
    " implementation of a static method that checks if a given year is a leap year:"
   ]
  },
  {
   "cell_type": "code",
   "execution_count": 8,
   "id": "2fc16e6b-100a-42c6-a786-126041ab1dd4",
   "metadata": {},
   "outputs": [
    {
     "name": "stdout",
     "output_type": "stream",
     "text": [
      "True\n",
      "False\n"
     ]
    }
   ],
   "source": [
    "class YearChecker:\n",
    "    @staticmethod\n",
    "    def is_leap_year(year):\n",
    "        return year % 4 == 0 and (year % 100 != 0 or year % 400 == 0)\n",
    "\n",
    "# Example usage:\n",
    "print(YearChecker.is_leap_year(2024))  # Output: True\n",
    "print(YearChecker.is_leap_year(2023))  # Output: False\n"
   ]
  },
  {
   "cell_type": "markdown",
   "id": "aae1de68-b4b7-4f08-aadc-9a3fe16d5a37",
   "metadata": {},
   "source": [
    "The is_leap_year method checks if a year is divisible by 4 and handles exceptions for centuries (divisible by 100 but not by 400)."
   ]
  },
  {
   "cell_type": "code",
   "execution_count": null,
   "id": "5cf81fa7-58c2-4a5c-bc4c-59bf79b1157e",
   "metadata": {},
   "outputs": [],
   "source": []
  }
 ],
 "metadata": {
  "kernelspec": {
   "display_name": "Python 3 (ipykernel)",
   "language": "python",
   "name": "python3"
  },
  "language_info": {
   "codemirror_mode": {
    "name": "ipython",
    "version": 3
   },
   "file_extension": ".py",
   "mimetype": "text/x-python",
   "name": "python",
   "nbconvert_exporter": "python",
   "pygments_lexer": "ipython3",
   "version": "3.12.6"
  }
 },
 "nbformat": 4,
 "nbformat_minor": 5
}
