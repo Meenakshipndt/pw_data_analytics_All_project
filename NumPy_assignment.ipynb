{
 "cells": [
  {
   "cell_type": "markdown",
   "id": "6211e6c3-7dea-4bf4-b4a5-b20ffb1adac5",
   "metadata": {},
   "source": [
    "## Numpy"
   ]
  },
  {
   "cell_type": "markdown",
   "id": "4ea0dc96-5fec-4314-94fd-13e47544fd74",
   "metadata": {},
   "source": [
    "### Theoretical Questions:"
   ]
  },
  {
   "cell_type": "markdown",
   "id": "f7fcef20-7359-4c82-9e3d-fcf97546a1a6",
   "metadata": {},
   "source": [
    "#### 1. Explain the purpose and advantages of NumPy in scientific computing and data analysis. How does it enhance Python's capabilities for numerical operations?"
   ]
  },
  {
   "cell_type": "markdown",
   "id": "50ca8d50-ae54-4315-95ce-4985a293eb07",
   "metadata": {},
   "source": [
    "NumPy is a Python library that makes working with numbers and data easier and faster, especially when dealing with large amounts of data. Here's a simpler explanation of its purpose, advantages, and how it improves Python for numerical tasks:\n",
    "\n"
   ]
  },
  {
   "cell_type": "markdown",
   "id": "cdf94875-57e4-4ac2-8659-94a37f99bf5e",
   "metadata": {},
   "source": [
    "##### Purpose of NumPy:"
   ]
  },
  {
   "cell_type": "markdown",
   "id": "ecadb5b4-e194-4d81-acb0-9495f74fd8bc",
   "metadata": {},
   "source": [
    "+ Efficient Arrays: NumPy provides a special type of data structure called an \"array\" (like a list but better for numbers) that can handle large amounts of data quickly.\n",
    "+ Math Tools: It gives you a set of tools to do mathematical calculations easily, like adding, multiplying, or performing more complex tasks with many numbers.\n",
    "+ Data Storage: NumPy arrays use less memory and work faster than regular Python lists, which is important when handling big datasets.\n",
    "+ Foundation for Other Libraries: Many popular data analysis tools, like Pandas and SciPy, are built on top of NumPy, using its arrays to speed things up."
   ]
  },
  {
   "cell_type": "markdown",
   "id": "8cd56089-c31f-43c2-a064-c664592fc63b",
   "metadata": {},
   "source": [
    "##### Advantages of NumPy:"
   ]
  },
  {
   "cell_type": "markdown",
   "id": "806238ad-ed75-425c-a1c9-2d7713a8e8db",
   "metadata": {},
   "source": [
    "+ Speed: NumPy is much faster than regular Python lists because it's written in C, a low-level language that's very fast for numerical tasks.\n",
    "\n",
    "+ Vectorized Operations: You can perform operations on whole arrays at once (like adding or multiplying numbers) without writing a loop, making the code shorter and faster.\n",
    "\n",
    "+ Multidimensional Arrays: It can handle multi-dimensional data (like 2D arrays for images or 3D arrays for videos), which is important for scientific work or machine learning.\n",
    "\n",
    "+ Broadcasting: NumPy can automatically handle arrays of different sizes and shapes, saving time by reducing the need to manually adjust data for calculations.\n",
    "\n",
    "+ Math Functions: It includes many built-in functions to handle complex math, like matrix operations and statistics, making it very useful for science and data analysis.\n",
    "\n"
   ]
  },
  {
   "cell_type": "markdown",
   "id": "00b4cd7d-4995-49f8-b78e-152bb4925163",
   "metadata": {},
   "source": [
    "##### How NumPy Enhances Python:"
   ]
  },
  {
   "cell_type": "markdown",
   "id": "cfb5b9f2-e8e5-4490-9a0c-1ba88eab5eaa",
   "metadata": {},
   "source": [
    "+ Better for Big Data: Python’s built-in lists are flexible but slow for numerical tasks. NumPy arrays are specifically designed to handle large amounts of numbers quickly.\n",
    "\n",
    "+ Memory Efficiency: NumPy uses less memory, so you can work with bigger datasets without running out of space.\n",
    "\n",
    "+ Easy Data Manipulation: It lets you easily reshape and filter data, making it much simpler to work with large datasets in fields like data science and machine learning.\n",
    "\n",
    "+ Parallel Processing: NumPy can sometimes use multiple processors at once, speeding up computations."
   ]
  },
  {
   "cell_type": "markdown",
   "id": "8208ea3b-c231-4086-80da-f42e12219356",
   "metadata": {},
   "source": [
    " NumPy makes Python much more powerful for working with numbers and data, helping scientists, data analysts, and engineers do their work faster and more efficiently."
   ]
  },
  {
   "cell_type": "markdown",
   "id": "5017d095-4df4-4393-82c8-95dcf83b64bd",
   "metadata": {},
   "source": [
    "#### 2. Compare and contrast np.mean()b and np.average() functions in NumPy. When would you use  one over the other? "
   ]
  },
  {
   "cell_type": "markdown",
   "id": "366c0c57-12a6-4417-8a26-be0bba82ff16",
   "metadata": {},
   "source": [
    "In NumPy, both `np.mean()` and `np.average()` are used to calculate the average of numbers in an array, but they have some differences. Here's a simple comparison:"
   ]
  },
  {
   "cell_type": "markdown",
   "id": "a303e0e0-9ad9-4f3e-8ce4-4d3e0b843d5d",
   "metadata": {},
   "source": [
    "##### `np.mean():`"
   ]
  },
  {
   "cell_type": "markdown",
   "id": "a7e364d2-c990-4f22-b413-0bd513e188e1",
   "metadata": {},
   "source": [
    "+ Purpose: This function calculates the simple arithmetic mean (average) of an array. It adds up all the numbers and divides by the number of items.\n",
    "+ Usage: You would use np.mean() when you want to find the plain average of a set of numbers without any special adjustments."
   ]
  },
  {
   "cell_type": "markdown",
   "id": "fd3e9038-1b24-41cf-9f68-80b03f220ad6",
   "metadata": {},
   "source": [
    "##### `np.average():`"
   ]
  },
  {
   "cell_type": "markdown",
   "id": "515c0d1e-7a4c-462d-8cc3-1e4dcbbf445b",
   "metadata": {},
   "source": [
    "+ Purpose: This function also calculates the average, but with an added feature: you can give weights to the numbers. This means that some numbers can count more or less in the calculation.\n",
    "+ Usage: You would use np.average() when you want to calculate a weighted average, where certain values are more important than others."
   ]
  },
  {
   "cell_type": "markdown",
   "id": "41de4742-cc4d-4c15-b3f8-9acf9663cb2e",
   "metadata": {},
   "source": [
    "##### Key Differences:"
   ]
  },
  {
   "cell_type": "markdown",
   "id": "173ab51f-3cf0-46d0-9423-6a572eeabb59",
   "metadata": {},
   "source": [
    "##### 1. Weights:"
   ]
  },
  {
   "cell_type": "markdown",
   "id": "cd011336-c3de-4461-83d7-9a2e58dd87c6",
   "metadata": {},
   "source": [
    "+ `np.mean()` does not use weights; it gives equal importance to all values.\n",
    "+ `np.average()` can use weights, allowing certain numbers to have more or less influence on "
   ]
  },
  {
   "cell_type": "markdown",
   "id": "fbac0225-6a6d-4da1-9305-59c99e5e6c23",
   "metadata": {},
   "source": [
    "##### 2. Default Behavior:"
   ]
  },
  {
   "cell_type": "markdown",
   "id": "388bc311-ba19-4286-9cf9-e17294355644",
   "metadata": {},
   "source": [
    "+ If you just want a simple average, np.mean() is the go-to function.\n",
    "+ If you need a weighted average, you should use np.average().\n"
   ]
  },
  {
   "cell_type": "markdown",
   "id": "191578e2-5807-4f07-bb49-7ce9cfe2c151",
   "metadata": {},
   "source": [
    "##### When to Use Each:"
   ]
  },
  {
   "cell_type": "markdown",
   "id": "04564165-9db7-4be8-baa1-ebbe26accbd6",
   "metadata": {},
   "source": [
    "+ Use np.mean() when you want the plain, unweighted average of numbers.\n",
    "+ Use np.average() when you need to factor in weights, giving different values different levels of importance in the calculation."
   ]
  },
  {
   "cell_type": "markdown",
   "id": "4b4d02c5-3bb6-498d-9d66-19908e25a7a5",
   "metadata": {},
   "source": [
    "#### 3. Describe the methods for reversing a NumPy array along different axes. Provide Examples for 1D and 2D array."
   ]
  },
  {
   "cell_type": "markdown",
   "id": "6fdeaeb0-eac2-41a3-afa9-40d2dd5da4d6",
   "metadata": {},
   "source": [
    "To reverse a NumPy array along different axes, you can use slicing or built-in NumPy functions. Here’s how to do it for 1D and 2D arrays:"
   ]
  },
  {
   "cell_type": "markdown",
   "id": "3bc28339-b8ee-4059-9c76-01812fc32671",
   "metadata": {},
   "source": [
    "##### 1D Array (Single Axis):"
   ]
  },
  {
   "cell_type": "markdown",
   "id": "740c8a3b-f561-4886-b363-72216aba72bc",
   "metadata": {},
   "source": [
    "To reverse a 1D array, you can simply use slicing with `[::-1]`."
   ]
  },
  {
   "cell_type": "markdown",
   "id": "f0ca589f-6405-4234-b49e-2352156f43b2",
   "metadata": {},
   "source": [
    "##### Example:"
   ]
  },
  {
   "cell_type": "code",
   "execution_count": null,
   "id": "a691db2a-d41c-4939-823b-9e4e42eefbb1",
   "metadata": {},
   "outputs": [],
   "source": [
    "import numpy as np\n",
    "arr = np.array([1, 2, 3, 4, 5])\n",
    "reversed_arr = arr[::-1]\n",
    "print(reversed_arr)  # Output: [5 4 3 2 1]\n"
   ]
  },
  {
   "cell_type": "markdown",
   "id": "1add4638-80dc-4f15-bdfd-a836ae1c0d9c",
   "metadata": {},
   "source": [
    "##### 2D Array (Rows or Columns):"
   ]
  },
  {
   "cell_type": "markdown",
   "id": "90d7154c-dedb-4651-90c4-ebd9d4e4b0b4",
   "metadata": {},
   "source": [
    "\n",
    "For 2D arrays, you can reverse along rows or columns using slicing on different axes:\n",
    "\n",
    "+ Reverse Rows (axis 0): Use `[::-1, :]` to reverse the order of the rows.\n",
    "+ Reverse Columns (axis 1): Use `[:, ::-1]` to reverse the order of the columns."
   ]
  },
  {
   "cell_type": "markdown",
   "id": "d9fcf86b-895a-4bd6-89ea-babbee2d13e3",
   "metadata": {},
   "source": [
    "##### Example:"
   ]
  },
  {
   "cell_type": "code",
   "execution_count": null,
   "id": "488f2ca2-ae77-4b02-9782-8ad280ae7bd2",
   "metadata": {},
   "outputs": [],
   "source": [
    "import numpy as np\n",
    "arr_2d = np.array([[1, 2, 3], [4, 5, 6], [7, 8, 9]])\n",
    "\n",
    "# Reverse Rows\n",
    "reversed_rows = arr_2d[::-1, :]\n",
    "print(reversed_rows)  \n",
    "# Output: \n",
    "# [[7 8 9]\n",
    "#  [4 5 6]\n",
    "#  [1 2 3]]\n",
    "\n",
    "# Reverse Columns\n",
    "reversed_cols = arr_2d[:, ::-1]\n",
    "print(reversed_cols)\n",
    "# Output: \n",
    "# [[3 2 1]\n",
    "#  [6 5 4]\n",
    "#  [9 8 7]]\n"
   ]
  },
  {
   "cell_type": "markdown",
   "id": "518c56fe-2f23-4ab6-b623-7c70aa50d29b",
   "metadata": {},
   "source": [
    "Summary:\n",
    "+ Use `[::-1]` for reversing a 1D array.\n",
    "+ Use `[::-1, :]` for reversing rows in a 2D array.\n",
    "+ Use `[:, ::-1]` for reversing columns in a 2D array.\n",
    "\n",
    "\n",
    "\n",
    "\n",
    "\n"
   ]
  },
  {
   "cell_type": "markdown",
   "id": "648ee8c3-8bd2-4353-81fe-cd4d085c2aac",
   "metadata": {},
   "source": [
    "#### 4. How can you determine the data types of elements in a NumPy array? Discuss the importance of data types in memory management and performance."
   ]
  },
  {
   "cell_type": "markdown",
   "id": "fcad06a1-053d-4726-844e-c96095677fbc",
   "metadata": {},
   "source": [
    "##### Determining Data Types in a NumPy Array:"
   ]
  },
  {
   "cell_type": "markdown",
   "id": "9acf37c3-74c4-4c2e-8e89-d1ef5f0c1938",
   "metadata": {},
   "source": [
    "To determine the data type of elements in a NumPy array, you can use the .dtype attribute."
   ]
  },
  {
   "cell_type": "markdown",
   "id": "32dfe375-d9f3-4d3b-8582-64b717ff2d92",
   "metadata": {},
   "source": [
    "##### Example:"
   ]
  },
  {
   "cell_type": "markdown",
   "id": "6c7b073c-815f-4fdb-b941-403652a955cd",
   "metadata": {},
   "source": [
    "import numpy as np\n",
    "arr = np.array([1, 2, 3])\n",
    "print(arr.dtype)  # Output: int64 (or another int type)\n"
   ]
  },
  {
   "cell_type": "markdown",
   "id": "e0f3ab40-d4a0-46cd-acb1-6167b335ac3c",
   "metadata": {},
   "source": [
    "##### Importance of Data Types in NumPy:"
   ]
  },
  {
   "cell_type": "markdown",
   "id": "6e4a34d1-9330-4170-9503-212f96d5958b",
   "metadata": {},
   "source": [
    "##### 1. Memory Management:"
   ]
  },
  {
   "cell_type": "markdown",
   "id": "c8d3fc58-95e9-40b6-9bf8-389bbd0149f8",
   "metadata": {},
   "source": [
    "+ Fixed Size: NumPy arrays use fixed-size data types, so each element consumes a specific amount of memory (e.g., int32, float64).\n",
    "+ Efficiency: Choosing the right data type (e.g., int8 vs. int64) helps control memory usage, especially when working with large datasets.\n"
   ]
  },
  {
   "cell_type": "markdown",
   "id": "c462f99c-779f-4690-b5b8-6c698a764b18",
   "metadata": {},
   "source": [
    "##### 2.Performance:"
   ]
  },
  {
   "cell_type": "markdown",
   "id": "6ee99300-66d5-41d0-9d20-eaf5408eeab7",
   "metadata": {},
   "source": [
    "+ Faster Computations: NumPy operates more efficiently with consistent data types since it avoids the overhead of Python’s dynamic typing.\n",
    "+ Vectorization: Operations on arrays are optimized for specific data types, speeding up numerical calculations."
   ]
  },
  {
   "cell_type": "markdown",
   "id": "016a6db3-79bb-4e6a-9b48-c2bbaef3a472",
   "metadata": {},
   "source": [
    "#### 5. Define ndarray in NumPy and explain their key features. How do they differ from standard Python lists?"
   ]
  },
  {
   "cell_type": "markdown",
   "id": "0cede29c-dd51-48c9-85b0-e837c96deca2",
   "metadata": {},
   "source": [
    "##### ndarray in NumPy:"
   ]
  },
  {
   "cell_type": "markdown",
   "id": "df32ffa9-d471-492b-b450-c1c1f6d39c9b",
   "metadata": {},
   "source": [
    "An ndarray (N-dimensional array) is the core data structure of NumPy, used to store large, multi-dimensional arrays and matrices.\n",
    "\n"
   ]
  },
  {
   "cell_type": "markdown",
   "id": "84e543f4-3f74-4a12-9138-1759984052fe",
   "metadata": {},
   "source": [
    "##### Key Features of ndarray:"
   ]
  },
  {
   "cell_type": "markdown",
   "id": "b1c3b2e0-db91-4f24-987c-43617c5ee032",
   "metadata": {},
   "source": [
    " + Fixed Size: Once created, the size of an ndarray is fixed, meaning you cannot change its shape without creating a new array.\n",
    "+ Homogeneous Data: All elements in an ndarray must have the same data type (e.g., all integers or all floats).\n",
    "+ Efficient Memory Usage: ndarray uses contiguous memory, which makes it more memory-efficient than Python lists, especially for large datasets.\n",
    "+ Supports Vectorized Operations: You can perform mathematical operations on entire arrays at once without looping, making computations much faster.\n",
    "+ Multi-dimensional Support: Unlike Python lists, ndarray supports multiple dimensions, such as 1D, 2D (matrices), or higher."
   ]
  },
  {
   "cell_type": "markdown",
   "id": "9af2f661-7c45-4b2d-bcac-788366eb9c9e",
   "metadata": {},
   "source": [
    "##### Differences from Python Lists:"
   ]
  },
  {
   "cell_type": "markdown",
   "id": "f28eb1ee-fe9c-4280-8c8b-1d280ef35fa9",
   "metadata": {},
   "source": [
    "+ Memory Efficiency: ndarray consumes less memory because it uses fixed data types and contiguous memory storage.\n",
    "+ Speed: ndarray is faster than Python lists due to optimized operations and no need for type checking during calculations.\n",
    "+ Multi-dimensionality: ndarray can handle multiple dimensions easily, while Python lists require nested structures for the same.\n",
    "+ Broadcasting: ndarray supports broadcasting, allowing operations on arrays of different shapes, which Python lists cannot do easily.\n"
   ]
  },
  {
   "cell_type": "markdown",
   "id": "8ef66a0e-b7f0-4e36-9de1-9b5648548458",
   "metadata": {},
   "source": [
    "#### 6. Analyze the performance benefits of NumPy arrays over Python list for large- scale numerical operations.\n",
    "\n"
   ]
  },
  {
   "cell_type": "markdown",
   "id": "14c537c2-1650-4110-99ef-f6f7e0283c6c",
   "metadata": {},
   "source": [
    "#### Performance Benefits of NumPy Arrays Over Python Lists:"
   ]
  },
  {
   "cell_type": "markdown",
   "id": "e6d302f1-70ce-456e-a27c-19688dc33fec",
   "metadata": {},
   "source": [
    "##### 1. Memory Efficiency:"
   ]
  },
  {
   "cell_type": "markdown",
   "id": "50d07d6a-f6ee-4444-8fe2-5afd2550ff7e",
   "metadata": {},
   "source": [
    "+ Fixed Data Types: NumPy arrays store elements with a fixed data type, making them more memory-efficient compared to Python lists, which store pointers to objects of different types.\n",
    "+ Contiguous Memory: NumPy arrays are stored in contiguous memory blocks, reducing memory overhead and allowing faster access.\n",
    "\n"
   ]
  },
  {
   "cell_type": "markdown",
   "id": "43429738-ab2a-4bce-a1bc-b74bc8043847",
   "metadata": {},
   "source": [
    "##### 2. Faster Computations:"
   ]
  },
  {
   "cell_type": "markdown",
   "id": "a0fecc23-0bc4-4d47-a931-3bab2cce3fc3",
   "metadata": {},
   "source": [
    "+ Vectorized Operations: NumPy can perform operations on entire arrays at once without loops (e.g., adding two arrays element-wise), which is much faster than iterating over Python lists.\n",
    "+ C-Level Optimization: NumPy is implemented in C, allowing low-level optimizations and faster execution compared to Python's dynamic list implementation."
   ]
  },
  {
   "cell_type": "markdown",
   "id": "a928ac59-3ba4-4e05-9ffd-fa7cf140b808",
   "metadata": {},
   "source": [
    "##### 3. Efficient Broadcasting:"
   ]
  },
  {
   "cell_type": "markdown",
   "id": "c5b18176-71a2-4026-a953-cd9f334f6f77",
   "metadata": {},
   "source": [
    "+ Broadcasting: NumPy can handle operations between arrays of different shapes and sizes without extra code, making operations faster and simpler than manually resizing Python lists."
   ]
  },
  {
   "cell_type": "markdown",
   "id": "406253aa-4362-48c4-b9cf-be426657cebe",
   "metadata": {},
   "source": [
    "##### 4. Reduced Overhead:"
   ]
  },
  {
   "cell_type": "markdown",
   "id": "06345164-e1f2-45c4-844e-3ccb8280bef4",
   "metadata": {},
   "source": [
    "+ Type Checking: Python lists require type checking at runtime for every element, whereas NumPy arrays skip this step since all elements have the same data type, improving speed."
   ]
  },
  {
   "cell_type": "markdown",
   "id": "3adc07f9-7fa1-47b7-8d2d-21f646d19d59",
   "metadata": {},
   "source": [
    "##### conclusoin: "
   ]
  },
  {
   "cell_type": "markdown",
   "id": "4043e36d-7ee9-42f3-9382-7c5d04e67605",
   "metadata": {},
   "source": [
    "For large-scale numerical operations, NumPy arrays offer significant performance advantages in terms of memory efficiency, speed, and optimized operations, making them far more suitable than Python lists for data-heavy computations."
   ]
  },
  {
   "cell_type": "markdown",
   "id": "1ac34306-2fed-4663-9a73-1fe9aa896311",
   "metadata": {},
   "source": [
    "#### 7. Compare vstack() and hstack() functions in NumPy. Provide examples demonstrating their usage and output."
   ]
  },
  {
   "cell_type": "markdown",
   "id": "64b3a683-299c-4a06-a045-0cf981b04c3c",
   "metadata": {},
   "source": [
    "##### `vstack()` vs. `hstack()` in NumPy:"
   ]
  },
  {
   "cell_type": "markdown",
   "id": "0bd3965e-f0ad-4919-a6b0-c58d573c53f9",
   "metadata": {},
   "source": [
    "+ `vstack()` (Vertical Stack):"
   ]
  },
  {
   "cell_type": "markdown",
   "id": "ab0fd303-21ce-4082-ab3e-402d5f321571",
   "metadata": {},
   "source": [
    "+ Stacks arrays vertically (row-wise).\n",
    "+ Arrays are combined along a new row axis.\n",
    "+ It requires the arrays to have the same number of columns.\n"
   ]
  },
  {
   "cell_type": "markdown",
   "id": "9c00e441-cb1e-49bd-951e-a3f981cec546",
   "metadata": {},
   "source": [
    "+ `hstack()` (Horizontal Stack):"
   ]
  },
  {
   "cell_type": "markdown",
   "id": "91941281-6051-46f8-84cd-fc0fb7a83de3",
   "metadata": {},
   "source": [
    "+ Stacks arrays horizontally (column-wise).\n",
    "+ Arrays are combined along a new column axis.\n",
    "+ It requires the arrays to have the same number of rows."
   ]
  },
  {
   "cell_type": "markdown",
   "id": "936c5dce-03bf-4146-9d95-d483cf7a6022",
   "metadata": {},
   "source": [
    "##### Example of `vstack()`:"
   ]
  },
  {
   "cell_type": "code",
   "execution_count": null,
   "id": "5647a6a9-71ce-4d92-9f0d-ee0a36957110",
   "metadata": {},
   "outputs": [],
   "source": [
    "import numpy as np\n",
    "arr1 = np.array([1, 2, 3])\n",
    "arr2 = np.array([4, 5, 6])\n",
    "\n",
    "result = np.vstack((arr1, arr2))\n",
    "print(result)\n"
   ]
  },
  {
   "cell_type": "markdown",
   "id": "12e09dfa-f498-4b7f-90e7-e103ca12b661",
   "metadata": {},
   "source": [
    "##### Example of `hstack()`:"
   ]
  },
  {
   "cell_type": "code",
   "execution_count": null,
   "id": "152c582e-7fe6-4574-8f58-8901459693b0",
   "metadata": {},
   "outputs": [],
   "source": [
    "import numpy as np\n",
    "arr1 = np.array([1, 2, 3])\n",
    "arr2 = np.array([4, 5, 6])\n",
    "\n",
    "result = np.hstack((arr1, arr2))\n",
    "print(result)\n"
   ]
  },
  {
   "cell_type": "markdown",
   "id": "14f295a5-91e6-4c95-b5d7-45e9c86e4647",
   "metadata": {},
   "source": [
    "#### 8. Explain the differences between fliplr() and flipud() methods in Numpy, Including their effects on various array dimensions."
   ]
  },
  {
   "cell_type": "markdown",
   "id": "75ff8b63-12e6-4dee-8bda-d5e1227f81b1",
   "metadata": {},
   "source": [
    "##### Differences Between `fliplr()` and `flipud()` in NumPy:"
   ]
  },
  {
   "cell_type": "markdown",
   "id": "f8031b25-fc3f-4a28-b38d-67ef6c237820",
   "metadata": {},
   "source": [
    "##### + `fliplr()` (Flip Left to Right):"
   ]
  },
  {
   "cell_type": "markdown",
   "id": "ba040ac3-b8c4-4b5c-8606-ecd8e7e4cc06",
   "metadata": {},
   "source": [
    "+ Flips a 2D array horizontally, reversing the order of columns.\n",
    "+ It only works on arrays with 2 or more columns.\n"
   ]
  },
  {
   "cell_type": "markdown",
   "id": "238fbff1-d9d9-4b3f-b174-b7536b3eee17",
   "metadata": {},
   "source": [
    "##### + `flipud()` (Flip Up to Down):\n"
   ]
  },
  {
   "cell_type": "markdown",
   "id": "e4536f6d-8489-4c35-ade4-7322de0167a9",
   "metadata": {},
   "source": [
    "+ Flips a 2D array vertically, reversing the order of rows.\n",
    "+ It works on arrays with 2 or more rows."
   ]
  },
  {
   "cell_type": "markdown",
   "id": "a61ca879-45aa-44d4-b288-2847883dcccc",
   "metadata": {},
   "source": [
    "##### Effects on Array Dimensions:"
   ]
  },
  {
   "cell_type": "markdown",
   "id": "386b2282-c9eb-41fb-8064-6ca0eaa28d30",
   "metadata": {},
   "source": [
    "+ `fliplr()`:\n",
    "\n",
    "+ The rows remain the same, but the columns are reversed.\n",
    "+ Example: [ [1, 2], [3, 4] ] becomes [ [2, 1], [4, 3] ].\n"
   ]
  },
  {
   "cell_type": "markdown",
   "id": "799eda8f-6e17-4f20-b185-4de271d96399",
   "metadata": {},
   "source": [
    "+ `flipud()`:"
   ]
  },
  {
   "cell_type": "markdown",
   "id": "4e527ed7-a954-4e01-b430-95797b005b69",
   "metadata": {},
   "source": [
    "+ The columns remain the same, but the rows are reversed.\n",
    "+ Example: [ [1, 2], [3, 4] ] becomes [ [3, 4], [1, 2] ].\n"
   ]
  },
  {
   "cell_type": "markdown",
   "id": "3e2ecaa5-c8a5-4ac3-9668-4f235e725537",
   "metadata": {},
   "source": [
    "#### 9. Discuss the functionally of the array_split() method in Numpy. How does it handle uneven splits?\n",
    "                                    "
   ]
  },
  {
   "cell_type": "markdown",
   "id": "5e2d4ed8-7209-480c-9b5d-b607adc2cdd5",
   "metadata": {},
   "source": [
    "##### Functionality of `array_split()` in NumPy:"
   ]
  },
  {
   "cell_type": "markdown",
   "id": "0fe2f6e9-1076-46f9-87ec-fee1f7e8f8fb",
   "metadata": {},
   "source": [
    "The array_split() method in NumPy is used to divide an array into multiple smaller arrays. This is useful when you want to manage or process large datasets in smaller chunks.\n",
    "\n"
   ]
  },
  {
   "cell_type": "markdown",
   "id": "bd6ca2f4-dafb-4650-bc3a-72bad0d0d8a0",
   "metadata": {},
   "source": [
    "##### How It Works:"
   ]
  },
  {
   "cell_type": "code",
   "execution_count": null,
   "id": "2144e40b-adce-4ec2-85a4-56a27af91e4d",
   "metadata": {},
   "outputs": [],
   "source": [
    "+ Input: You provide an array and specify how many pieces you want it to be split into, or you can give specific indices to split at.\n",
    "+ Axis: You can choose to split the array along a specific direction (like rows or columns).\n"
   ]
  },
  {
   "cell_type": "markdown",
   "id": "7a1a829d-c70f-4e7d-adfd-d181b3fbd824",
   "metadata": {},
   "source": [
    "##### Handling Uneven Splits:"
   ]
  },
  {
   "cell_type": "markdown",
   "id": "de916516-756a-46d6-b6fe-3631b2faad3a",
   "metadata": {},
   "source": [
    "+ If the total number of elements in the array cannot be evenly divided by the number of pieces you want, array_split() will manage the leftover elements.\n",
    "+ Most of the smaller arrays will have the same number of elements.\n",
    "+ The last array will include any remaining elements.\n"
   ]
  },
  {
   "cell_type": "markdown",
   "id": "9900c3f7-b648-4bb0-b342-608739320860",
   "metadata": {},
   "source": [
    "#### 10. Explain the concepts of vectorizion and broadcasting in NumPy. How do they contribute to efficient array operations?"
   ]
  },
  {
   "cell_type": "markdown",
   "id": "a5285b90-de06-4b2d-9bb3-3f9e21cfe31a",
   "metadata": {},
   "source": [
    "##### Vectorization in NumPy:"
   ]
  },
  {
   "cell_type": "markdown",
   "id": "0d1d1fcb-5088-4ff0-ab60-24f285501946",
   "metadata": {},
   "source": [
    "Vectorization refers to the process of performing operations on entire arrays instead of using loops to process individual elements. In NumPy, vectorized operations allow you to apply mathematical functions across all elements of an array at once.\n",
    "\n"
   ]
  },
  {
   "cell_type": "markdown",
   "id": "2c8b94fb-f708-4c73-955f-ef0abc379a9d",
   "metadata": {},
   "source": [
    "+ Example:  If you want to add two arrays together, vectorization lets you do it in a single step:"
   ]
  },
  {
   "cell_type": "markdown",
   "id": "7084b3d6-226b-46fc-9796-49bd8f5d8989",
   "metadata": {},
   "source": [
    "import numpy as np\n",
    "a = np.array([1, 2, 3])\n",
    "b = np.array([4, 5, 6])\n",
    "result = a + b  # Adds corresponding elements\n"
   ]
  },
  {
   "cell_type": "markdown",
   "id": "f614e451-691f-41ce-828c-f1939b435258",
   "metadata": {},
   "source": [
    "+ Benefit: This makes calculations faster and cleaner because NumPy internally uses optimized C code for these operations.\n"
   ]
  },
  {
   "cell_type": "markdown",
   "id": "c029faeb-68a7-4d7b-9d1a-678a6493849b",
   "metadata": {},
   "source": [
    "##### Broadcasting in NumPy:"
   ]
  },
  {
   "cell_type": "markdown",
   "id": "8477a6ec-9a47-4ec9-a204-fd2239a86cf2",
   "metadata": {},
   "source": [
    "Broadcasting is a technique that allows NumPy to perform operations on arrays of different shapes. When performing an operation, NumPy automatically expands the smaller array to match the shape of the larger array."
   ]
  },
  {
   "cell_type": "markdown",
   "id": "d43aeac3-9e9e-4a52-91d4-5f5822f56bb0",
   "metadata": {},
   "source": [
    "+ Example: If you have a 1D array and a 2D array:"
   ]
  },
  {
   "cell_type": "markdown",
   "id": "082e3951-484c-46a4-96de-68c186e8a4f7",
   "metadata": {},
   "source": [
    "import numpy as np\n",
    "a = np.array([1, 2, 3])  # Shape (3,)\n",
    "b = np.array([[4, 5, 6],  # Shape (2, 3)\n",
    "              [7, 8, 9]])\n",
    "result = a + b  # a is broadcasted to (2, 3)\n"
   ]
  },
  {
   "cell_type": "markdown",
   "id": "963e74b8-e7ad-4871-b5f0-88fe07cba456",
   "metadata": {},
   "source": [
    "+ Benefit: Broadcasting simplifies code and allows for flexible operations without explicitly reshaping arrays, making it efficient for handling larger datasets."
   ]
  },
  {
   "cell_type": "markdown",
   "id": "1d4f0f32-928c-4a57-ad8d-62d03225ce29",
   "metadata": {},
   "source": [
    "###   Practical Question:"
   ]
  },
  {
   "cell_type": "markdown",
   "id": "3d0fe23c-7878-4540-86a7-979488b59017",
   "metadata": {},
   "source": [
    "#### 1. Creat a 3x3 NumPy array with randam integers between 1 and 100. Then, interchange it's rows and coloums. "
   ]
  },
  {
   "cell_type": "code",
   "execution_count": null,
   "id": "b51f19ba-8363-4623-9628-0b365a260e8f",
   "metadata": {},
   "outputs": [],
   "source": [
    "import numpy as np\n",
    "\n",
    "# Create a 3x3 NumPy array with random integers between 1 and 100\n",
    "array_3x3 = np.random.randint(1, 101, size=(3, 3))\n",
    "\n",
    "# Interchange rows and columns (transpose the array)\n",
    "array_transposed = array_3x3.T\n",
    "\n",
    "print(\"Original array:\")\n",
    "print(array_3x3)\n",
    "print(\"\\nTransposed array:\")\n",
    "print(array_transposed)\n"
   ]
  },
  {
   "cell_type": "markdown",
   "id": "52c0c533-6250-4eed-88f9-c4fc2e774cf4",
   "metadata": {},
   "source": [
    "#### 2. Generate a 1D NumPy array with 10 elements. Reshape it into a 2x5 array, then into a 5x2 array."
   ]
  },
  {
   "cell_type": "code",
   "execution_count": null,
   "id": "fe45cefa-6e6d-4e2e-bcc2-10ecccceb9c9",
   "metadata": {},
   "outputs": [],
   "source": [
    "import numpy as np\n",
    "\n",
    "# Generate a 1D NumPy array with 10 elements\n",
    "array_1d = np.arange(10)\n",
    "\n",
    "# Reshape into a 2x5 array\n",
    "array_2x5 = array_1d.reshape(2, 5)\n",
    "\n",
    "# Reshape into a 5x2 array\n",
    "array_5x2 = array_2x5.reshape(5, 2)\n",
    "\n",
    "print(\"1D array:\", array_1d)\n",
    "print(\"2x5 array:\", array_2x5)\n",
    "print(\"5x2 array:\", array_5x2)\n"
   ]
  },
  {
   "cell_type": "markdown",
   "id": "4c68b1a2-07b3-400c-8fec-c66019ed8dd4",
   "metadata": {},
   "source": [
    "This code will give the following output:"
   ]
  },
  {
   "cell_type": "markdown",
   "id": "a5ce291d-ba5d-43ac-ab16-7d9c24513c65",
   "metadata": {},
   "source": [
    "1. 1D array: [0 1 2 3 4 5 6 7 8 9]"
   ]
  },
  {
   "cell_type": "markdown",
   "id": "50d8f5f2-bedd-4c0c-85fa-bcf8e12eece2",
   "metadata": {},
   "source": [
    "2. 2x5 array:"
   ]
  },
  {
   "cell_type": "code",
   "execution_count": null,
   "id": "dabfa35f-6dc7-441c-b294-bf00b91d747f",
   "metadata": {},
   "outputs": [],
   "source": [
    "[[0 1 2 3 4]\n",
    " [5 6 7 8 9]]\n"
   ]
  },
  {
   "cell_type": "markdown",
   "id": "6643124c-4c33-41de-b1a2-9232bb9ee6b2",
   "metadata": {},
   "source": [
    "3. 5x2 array:"
   ]
  },
  {
   "cell_type": "code",
   "execution_count": null,
   "id": "72e12a94-30c7-4832-917c-2cfe764e729b",
   "metadata": {},
   "outputs": [],
   "source": [
    "[[0 1]\n",
    " [2 3]\n",
    " [4 5]\n",
    " [6 7]\n",
    " [8 9]]\n"
   ]
  },
  {
   "cell_type": "markdown",
   "id": "b7c44237-e7b2-44ba-949e-af581ca4b6e1",
   "metadata": {},
   "source": [
    "#### 3. Create a 4x4 NumPy array with random float values.Add a border of zeros around it, resulting in a 6*6array."
   ]
  },
  {
   "cell_type": "code",
   "execution_count": null,
   "id": "9e3205fb-af71-4dc9-8e43-7f811782a363",
   "metadata": {},
   "outputs": [],
   "source": [
    "import numpy as np\n",
    "\n",
    "# Create a 4x4 array with random float values\n",
    "array_4x4 = np.random.rand(4, 4)\n",
    "\n",
    "# Add a border of zeros around the array to make it 6x6\n",
    "array_6x6 = np.pad(array_4x4, pad_width=1, mode='constant', constant_values=0)\n",
    "\n",
    "print(\"Original 4x4 array:\")\n",
    "print(array_4x4)\n",
    "print(\"\\n6x6 array with zero border:\")\n",
    "print(array_6x6)\n"
   ]
  },
  {
   "cell_type": "markdown",
   "id": "f87100a0-82ab-4ebb-88d6-fca1f9e080a0",
   "metadata": {},
   "source": [
    "This code will:\n",
    "\n",
    "1. Generate a 4x4 array with random float values between 0 and 1.\n",
    "2. Add a border of zeros to expand it into a 6x6 array.\n",
    "\n",
    "\n",
    "\n",
    "\n",
    "\n"
   ]
  },
  {
   "cell_type": "markdown",
   "id": "f746e13e-4648-4c42-aad3-8bc3353c068f",
   "metadata": {},
   "source": [
    "#### 4. Using Numpy, create an array of integers from 10 to 60 with a step of 5."
   ]
  },
  {
   "cell_type": "code",
   "execution_count": null,
   "id": "2b5c5708-31f0-4e52-b128-8758a5b50712",
   "metadata": {},
   "outputs": [],
   "source": [
    "import numpy as np\n",
    "\n",
    "# Create an array of integers from 10 to 60 with a step of 5\n",
    "array = np.arange(10, 65, 5)\n",
    "\n",
    "print(array)\n"
   ]
  },
  {
   "cell_type": "markdown",
   "id": "fa370bce-9ed6-4dd8-b3fe-f6e79310c437",
   "metadata": {},
   "source": [
    "This code will output:"
   ]
  },
  {
   "cell_type": "code",
   "execution_count": null,
   "id": "b142d018-9846-4962-b135-ad5d7498130c",
   "metadata": {},
   "outputs": [],
   "source": [
    "[10 15 20 25 30 35 40 45 50 55 60]\n"
   ]
  },
  {
   "cell_type": "markdown",
   "id": "91e6038f-33a4-4a99-a593-dd3e5d869fc4",
   "metadata": {},
   "source": [
    "#### 5. Create a Numpy array of strings ['python', 'numpy', 'pandas'.]. Apply different case transformations(uppercase, lowercase, title case,etc.) to each element. "
   ]
  },
  {
   "cell_type": "code",
   "execution_count": null,
   "id": "fdcc1fc5-f605-4f19-9f26-6c89b36e12a4",
   "metadata": {},
   "outputs": [],
   "source": [
    "import numpy as np\n",
    "\n",
    "# Create a NumPy array of strings\n",
    "array = np.array(['python', 'numpy', 'pandas'])\n",
    "\n",
    "# Apply different case transformations\n",
    "uppercase_array = np.char.upper(array)  # Convert to uppercase\n",
    "lowercase_array = np.char.lower(array)  # Convert to lowercase\n",
    "titlecase_array = np.char.title(array)  # Convert to title case\n",
    "\n",
    "print(\"Original array:\", array)\n",
    "print(\"Uppercase:\", uppercase_array)\n",
    "print(\"Lowercase:\", lowercase_array)\n",
    "print(\"Title case:\", titlecase_array)\n"
   ]
  },
  {
   "cell_type": "markdown",
   "id": "2b89c649-58e7-4211-843a-7e15319a5c29",
   "metadata": {},
   "source": [
    "This will output:"
   ]
  },
  {
   "cell_type": "code",
   "execution_count": null,
   "id": "fa74a33a-f29e-4b4a-85e8-a09e3b11c8a8",
   "metadata": {},
   "outputs": [],
   "source": [
    "Original array: ['python' 'numpy' 'pandas']\n",
    "Uppercase: ['PYTHON' 'NUMPY' 'PANDAS']\n",
    "Lowercase: ['python' 'numpy' 'pandas']\n",
    "Title case: ['Python' 'Numpy' 'Pandas']\n"
   ]
  },
  {
   "cell_type": "markdown",
   "id": "084023a6-2d30-480c-9e15-17667b0e5573",
   "metadata": {},
   "source": [
    "#### 6. Generate a Numpy array of words. Insert a space between each character of every word in the array."
   ]
  },
  {
   "cell_type": "code",
   "execution_count": null,
   "id": "ad80aa7d-22f9-46e9-a7f2-80037047cf11",
   "metadata": {},
   "outputs": [],
   "source": [
    "import numpy as np\n",
    "\n",
    "# Create a NumPy array of words\n",
    "words_array = np.array(['python', 'numpy', 'pandas'])\n",
    "\n",
    "# Insert a space between each character of every word\n",
    "spaced_words_array = np.char.join(' ', words_array)\n",
    "\n",
    "print(\"Original array:\", words_array)\n",
    "print(\"Spaced words array:\", spaced_words_array)\n"
   ]
  },
  {
   "cell_type": "markdown",
   "id": "b9d45f83-cf7d-428a-a041-3040bebc5c11",
   "metadata": {},
   "source": [
    "This will output:"
   ]
  },
  {
   "cell_type": "code",
   "execution_count": null,
   "id": "d6d7b850-9a0a-4aab-a036-81b36fbad998",
   "metadata": {},
   "outputs": [],
   "source": [
    "Original array: ['python' 'numpy' 'pandas']\n",
    "Spaced words array: ['p y t h o n' 'n u m p y' 'p a n d a s']\n"
   ]
  },
  {
   "cell_type": "markdown",
   "id": "64fd2462-6fb3-4a4a-b623-575606a8cf03",
   "metadata": {},
   "source": [
    "#### 7. Create two 2D Numpy arrays and perform element-wise addition, subtraction, multiplication, and division."
   ]
  },
  {
   "cell_type": "code",
   "execution_count": null,
   "id": "cf86b058-6f5f-4f4e-80ca-91e221a3e522",
   "metadata": {},
   "outputs": [],
   "source": [
    "import numpy as np\n",
    "\n",
    "# Create two 2D NumPy arrays\n",
    "array1 = np.array([[1, 2, 3], [4, 5, 6]])\n",
    "array2 = np.array([[7, 8, 9], [10, 11, 12]])\n",
    "\n",
    "# Perform element-wise operations\n",
    "addition = np.add(array1, array2)        # Element-wise addition\n",
    "subtraction = np.subtract(array1, array2)  # Element-wise subtraction\n",
    "multiplication = np.multiply(array1, array2)  # Element-wise multiplication\n",
    "division = np.divide(array1, array2)     # Element-wise division\n",
    "\n",
    "# Print results\n",
    "print(\"Array 1:\\n\", array1)\n",
    "print(\"Array 2:\\n\", array2)\n",
    "print(\"\\nElement-wise addition:\\n\", addition)\n",
    "print(\"Element-wise subtraction:\\n\", subtraction)\n",
    "print(\"Element-wise multiplication:\\n\", multiplication)\n",
    "print(\"Element-wise division:\\n\", division)\n"
   ]
  },
  {
   "cell_type": "markdown",
   "id": "95d422ba-a144-499e-9658-7fbfb85c4bf9",
   "metadata": {},
   "source": [
    "This will output:"
   ]
  },
  {
   "cell_type": "code",
   "execution_count": null,
   "id": "b39a9a0d-6701-4470-8573-2c9b82b8e27f",
   "metadata": {},
   "outputs": [],
   "source": [
    "Array 1:\n",
    " [[1 2 3]\n",
    " [4 5 6]]\n",
    "Array 2:\n",
    " [[ 7  8  9]\n",
    " [10 11 12]]\n",
    "\n",
    "Element-wise addition:\n",
    " [[ 8 10 12]\n",
    " [14 16 18]]\n",
    "Element-wise subtraction:\n",
    " [[-6 -6 -6]\n",
    " [-6 -6 -6]]\n",
    "Element-wise multiplication:\n",
    " [[ 7 16 27]\n",
    " [40 55 72]]\n",
    "Element-wise division:\n",
    " [[0.14285714 0.25       0.33333333]\n",
    " [0.4        0.45454545 0.5       ]]\n"
   ]
  },
  {
   "cell_type": "markdown",
   "id": "0a0b803d-9c46-4a53-b4b2-c2bef01be3a7",
   "metadata": {},
   "source": [
    "#### 8. Use NumPy to create a 5x5 identity matrix, then extract its diagonal elements.\n"
   ]
  },
  {
   "cell_type": "code",
   "execution_count": null,
   "id": "d2445a11-3f9b-4ce8-b23a-219c9befd84c",
   "metadata": {},
   "outputs": [],
   "source": [
    "import numpy as np\n",
    "\n",
    "# Create a 5x5 identity matrix\n",
    "identity_matrix = np.eye(5)\n",
    "\n",
    "# Extract diagonal elements\n",
    "diagonal_elements = np.diag(identity_matrix)\n",
    "\n",
    "print(\"5x5 Identity Matrix:\\n\", identity_matrix)\n",
    "print(\"\\nDiagonal Elements:\", diagonal_elements)\n"
   ]
  },
  {
   "cell_type": "markdown",
   "id": "538da792-0f06-4612-ade1-53f07ad4ec54",
   "metadata": {},
   "source": [
    "This will output:"
   ]
  },
  {
   "cell_type": "code",
   "execution_count": null,
   "id": "9581925a-2c55-42ea-a58b-cfb81492fff5",
   "metadata": {},
   "outputs": [],
   "source": [
    "5x5 Identity Matrix:\n",
    " [[1. 0. 0. 0. 0.]\n",
    "  [0. 1. 0. 0. 0.]\n",
    "  [0. 0. 1. 0. 0.]\n",
    "  [0. 0. 0. 1. 0.]\n",
    "  [0. 0. 0. 0. 1.]]\n",
    "\n",
    "Diagonal Elements: [1. 1. 1. 1. 1.]\n"
   ]
  },
  {
   "cell_type": "markdown",
   "id": "e6fbdb6f-ea0a-4182-a6bb-a2a6b5f3b3b9",
   "metadata": {},
   "source": [
    "#### 9. Generate a Numpy array of 100 random integers between 0 and 1000.Find and display all prime numbers in this array.\n"
   ]
  },
  {
   "cell_type": "code",
   "execution_count": null,
   "id": "edacfb8a-b9a4-4491-bdcc-0d59a9ef6079",
   "metadata": {},
   "outputs": [],
   "source": [
    "import numpy as np\n",
    "\n",
    "# Generate a NumPy array of 100 random integers between 0 and 1000\n",
    "random_integers = np.random.randint(0, 1001, size=100)\n",
    "\n",
    "# Function to check for prime numbers\n",
    "def is_prime(num):\n",
    "    if num <= 1:\n",
    "        return False\n",
    "    for i in range(2, int(num**0.5) + 1):\n",
    "        if num % i == 0:\n",
    "            return False\n",
    "    return True\n",
    "\n",
    "# Find all prime numbers in the array\n",
    "prime_numbers = np.array([num for num in random_integers if is_prime(num)])\n",
    "\n",
    "# Display the results\n",
    "print(\"Random Integers:\\n\", random_integers)\n",
    "print(\"\\nPrime Numbers:\\n\", prime_numbers)\n"
   ]
  },
  {
   "cell_type": "markdown",
   "id": "b6b6ee0e-69b3-4a20-92d5-fece000a3352",
   "metadata": {},
   "source": [
    "#### Explanation:\n",
    "1. Generate Random Integers: The code creates an array of 100 random integers between 0 and 1000.\n",
    "2. Prime Checking Function: The is_prime function checks if a number is prime.\n",
    "3. Finding Primes: A list comprehension is used to extract prime numbers from the array.\n",
    "4. Display Results: Finally, it prints the original random integers and the identified prime numbers.\n"
   ]
  },
  {
   "cell_type": "markdown",
   "id": "ca3be54b-8821-465d-a24a-4dce7f34a81a",
   "metadata": {},
   "source": [
    "#### 10. Create a Numpy array representing daily temperatures for a month. Calculate and display the weekly averages.\n",
    "\n"
   ]
  },
  {
   "cell_type": "code",
   "execution_count": null,
   "id": "b7f26b9e-6fb2-42fb-a92c-03821734eaba",
   "metadata": {},
   "outputs": [],
   "source": [
    "import numpy as np\n",
    "\n",
    "# Create a NumPy array representing daily temperatures for a month (30 days)\n",
    "# For example, let's generate random temperatures between 15 and 30 degrees Celsius\n",
    "daily_temperatures = np.random.uniform(15, 30, size=30)\n",
    "\n",
    "# Calculate the weekly averages (4 weeks)\n",
    "weekly_averages = np.mean(daily_temperatures.reshape(-1, 7), axis=1)\n",
    "\n",
    "# Display the results\n",
    "print(\"Daily Temperatures for the Month:\\n\", daily_temperatures)\n",
    "print(\"\\nWeekly Averages:\\n\", weekly_averages)\n"
   ]
  },
  {
   "cell_type": "markdown",
   "id": "25147f42-0e2a-4ae7-b043-db980dbcfb76",
   "metadata": {},
   "source": [
    "##### Explanation:\n",
    "1. Daily Temperatures: The code creates a 1D array of daily temperatures for 30 days using random values between 15 and 30 degrees Celsius.\n",
    "2. Reshape for Weekly Averages: The reshape function is used to organize the temperatures into a shape of 4 weeks x 7 days. Since a month generally has 30 days, the last week will have 2 days; if you prefer, you can include 5 weeks (with 7 days) and take averages accordingly.\n",
    "3. Calculate Averages: The np.mean function computes the average temperatures for each week.\n",
    "4. Display Results: Finally, it prints the daily temperatures and the calculated weekly averages.\n"
   ]
  },
  {
   "cell_type": "code",
   "execution_count": null,
   "id": "324dd390-7782-40da-a9e6-2fb5ca4f3114",
   "metadata": {},
   "outputs": [],
   "source": []
  }
 ],
 "metadata": {
  "kernelspec": {
   "display_name": "Python 3 (ipykernel)",
   "language": "python",
   "name": "python3"
  },
  "language_info": {
   "codemirror_mode": {
    "name": "ipython",
    "version": 3
   },
   "file_extension": ".py",
   "mimetype": "text/x-python",
   "name": "python",
   "nbconvert_exporter": "python",
   "pygments_lexer": "ipython3",
   "version": "3.12.6"
  }
 },
 "nbformat": 4,
 "nbformat_minor": 5
}
