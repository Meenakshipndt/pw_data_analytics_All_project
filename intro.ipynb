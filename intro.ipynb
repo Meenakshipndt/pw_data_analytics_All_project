{
 "cells": [
  {
   "cell_type": "markdown",
   "id": "3af909fa-26bb-4c90-87fb-fd28a04b580e",
   "metadata": {},
   "source": [
    "# my introduction"
   ]
  },
  {
   "cell_type": "code",
   "execution_count": 1,
   "id": "423608b7-ff5e-49ac-bb51-d7c1f4a570b3",
   "metadata": {},
   "outputs": [
    {
     "name": "stdout",
     "output_type": "stream",
     "text": [
      "95\n"
     ]
    }
   ],
   "source": [
    "x = 45\n",
    "y = 50\n",
    "print(x+y)"
   ]
  },
  {
   "cell_type": "code",
   "execution_count": 3,
   "id": "63fb7a0a-f707-4430-ab26-b30bd35c18e9",
   "metadata": {},
   "outputs": [
    {
     "name": "stdout",
     "output_type": "stream",
     "text": [
      "hello\n"
     ]
    }
   ],
   "source": [
    "name = 'hello'\n",
    "print(name)\n"
   ]
  },
  {
   "cell_type": "markdown",
   "id": "93057c6a-1a68-4314-bdb4-9f70535d7b88",
   "metadata": {},
   "source": [
    "### my first output"
   ]
  },
  {
   "cell_type": "code",
   "execution_count": 4,
   "id": "3f354aa8-8ad0-411a-afee-2cc5e57b8561",
   "metadata": {},
   "outputs": [
    {
     "name": "stdin",
     "output_type": "stream",
     "text": [
      "enter your name  sachin\n"
     ]
    },
    {
     "name": "stdout",
     "output_type": "stream",
     "text": [
      "sachin\n"
     ]
    }
   ],
   "source": [
    "x = input('enter your name ')\n",
    "print(x)"
   ]
  },
  {
   "cell_type": "markdown",
   "id": "a0766f8b-9b02-44aa-b73b-9977a3bb11ad",
   "metadata": {},
   "source": [
    "## this is my another code"
   ]
  },
  {
   "cell_type": "code",
   "execution_count": null,
   "id": "f6ba6275-7255-4c9f-9a90-408b2c5feadf",
   "metadata": {},
   "outputs": [],
   "source": []
  },
  {
   "cell_type": "code",
   "execution_count": null,
   "id": "7a447eed-3566-4d2b-a4aa-c1a302780f05",
   "metadata": {},
   "outputs": [],
   "source": []
  }
 ],
 "metadata": {
  "kernelspec": {
   "display_name": "Python 3 (ipykernel)",
   "language": "python",
   "name": "python3"
  },
  "language_info": {
   "codemirror_mode": {
    "name": "ipython",
    "version": 3
   },
   "file_extension": ".py",
   "mimetype": "text/x-python",
   "name": "python",
   "nbconvert_exporter": "python",
   "pygments_lexer": "ipython3",
   "version": "3.12.6"
  }
 },
 "nbformat": 4,
 "nbformat_minor": 5
}
